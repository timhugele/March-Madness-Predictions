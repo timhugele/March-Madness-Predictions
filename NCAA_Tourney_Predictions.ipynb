{
 "cells": [
  {
   "cell_type": "markdown",
   "metadata": {},
   "source": [
    "# Predicting March Madness"
   ]
  },
  {
   "cell_type": "markdown",
   "metadata": {},
   "source": [
    "### Purpose\n",
    "\n",
    "The purpose of this notebook is to be able to predict the outcome of horse races in Hong Kong.\n",
    "\n",
    "### Structure of Notebook\n",
    "- Import the Data\n",
    "- Select Features to Potentially Model\n",
    "- Create Different Sets of Hold-Out Data\n",
    "- Change Potential Features to Floats\n",
    "- Create LogLoss Function\n",
    "- Benchmark Model (Give all matchups 50/50 odds)\n",
    "- 2nd Benchmark Model (Predict Purely on Betting Markets using LogReg)\n",
    "- LogReg Model\n",
    "- List of a few models I haven't gotten to work properly yet\n",
    "- Visuals for Presentation"
   ]
  },
  {
   "cell_type": "markdown",
   "metadata": {},
   "source": [
    "### Import Necessary Libraries"
   ]
  },
  {
   "cell_type": "code",
   "execution_count": 95,
   "metadata": {},
   "outputs": [],
   "source": [
    "import numpy as np\n",
    "import pandas as pd\n",
    "\n",
    "import matplotlib.pyplot as plt\n",
    "import seaborn as sns\n",
    "%matplotlib inline\n",
    "\n",
    "from collections import Counter\n",
    "\n",
    "from sklearn.preprocessing import StandardScaler\n",
    "from sklearn.ensemble import RandomForestClassifier\n",
    "from sklearn.linear_model import LogisticRegression\n",
    "from sklearn.model_selection import GridSearchCV, cross_val_score, StratifiedKFold, learning_curve, train_test_split\n",
    "from sklearn.metrics import brier_score_loss"
   ]
  },
  {
   "cell_type": "code",
   "execution_count": 3,
   "metadata": {},
   "outputs": [
    {
     "name": "stdout",
     "output_type": "stream",
     "text": [
      "Requirement already satisfied: BracketMaker in /Users/timothyphugele/.pyenv/versions/anaconda3-2019.10/envs/learn-env/lib/python3.6/site-packages (0.3.0)\r\n"
     ]
    }
   ],
   "source": [
    "!pip install BracketMaker"
   ]
  },
  {
   "cell_type": "markdown",
   "metadata": {},
   "source": [
    "### Read in Data"
   ]
  },
  {
   "cell_type": "code",
   "execution_count": 4,
   "metadata": {},
   "outputs": [],
   "source": [
    "all_games_df = pd.read_csv('Data/all_games_df.csv')"
   ]
  },
  {
   "cell_type": "code",
   "execution_count": 5,
   "metadata": {
    "scrolled": true
   },
   "outputs": [
    {
     "data": {
      "text/html": [
       "<div>\n",
       "<style scoped>\n",
       "    .dataframe tbody tr th:only-of-type {\n",
       "        vertical-align: middle;\n",
       "    }\n",
       "\n",
       "    .dataframe tbody tr th {\n",
       "        vertical-align: top;\n",
       "    }\n",
       "\n",
       "    .dataframe thead th {\n",
       "        text-align: right;\n",
       "    }\n",
       "</style>\n",
       "<table border=\"1\" class=\"dataframe\">\n",
       "  <thead>\n",
       "    <tr style=\"text-align: right;\">\n",
       "      <th></th>\n",
       "      <th>Season</th>\n",
       "      <th>date</th>\n",
       "      <th>is_tourney</th>\n",
       "      <th>home</th>\n",
       "      <th>HTeamID</th>\n",
       "      <th>hscore</th>\n",
       "      <th>road</th>\n",
       "      <th>RTeamID</th>\n",
       "      <th>rscore</th>\n",
       "      <th>line</th>\n",
       "      <th>...</th>\n",
       "      <th>RFG3</th>\n",
       "      <th>RFG3opponent</th>\n",
       "      <th>RFT</th>\n",
       "      <th>Rwins</th>\n",
       "      <th>Rwins_top25</th>\n",
       "      <th>Rwins_top5</th>\n",
       "      <th>Htourny20plus</th>\n",
       "      <th>Rtourny20plus</th>\n",
       "      <th>HBig4Conf</th>\n",
       "      <th>RBig4Conf</th>\n",
       "    </tr>\n",
       "  </thead>\n",
       "  <tbody>\n",
       "    <tr>\n",
       "      <td>0</td>\n",
       "      <td>2004</td>\n",
       "      <td>11/24/2003</td>\n",
       "      <td>0.0</td>\n",
       "      <td>arizona st.</td>\n",
       "      <td>1113.0</td>\n",
       "      <td>83.0</td>\n",
       "      <td>cal st. fullerton</td>\n",
       "      <td>1168.0</td>\n",
       "      <td>76.0</td>\n",
       "      <td>19.0</td>\n",
       "      <td>...</td>\n",
       "      <td>0.362272</td>\n",
       "      <td>0.387864</td>\n",
       "      <td>0.689468</td>\n",
       "      <td>10</td>\n",
       "      <td>0</td>\n",
       "      <td>0</td>\n",
       "      <td>0</td>\n",
       "      <td>0</td>\n",
       "      <td>0</td>\n",
       "      <td>0</td>\n",
       "    </tr>\n",
       "    <tr>\n",
       "      <td>1</td>\n",
       "      <td>2004</td>\n",
       "      <td>12/01/2003</td>\n",
       "      <td>0.0</td>\n",
       "      <td>pepperdine</td>\n",
       "      <td>1337.0</td>\n",
       "      <td>74.0</td>\n",
       "      <td>cal st. fullerton</td>\n",
       "      <td>1168.0</td>\n",
       "      <td>78.0</td>\n",
       "      <td>17.0</td>\n",
       "      <td>...</td>\n",
       "      <td>0.362272</td>\n",
       "      <td>0.387864</td>\n",
       "      <td>0.689468</td>\n",
       "      <td>10</td>\n",
       "      <td>0</td>\n",
       "      <td>0</td>\n",
       "      <td>0</td>\n",
       "      <td>0</td>\n",
       "      <td>0</td>\n",
       "      <td>0</td>\n",
       "    </tr>\n",
       "    <tr>\n",
       "      <td>2</td>\n",
       "      <td>2004</td>\n",
       "      <td>01/17/2004</td>\n",
       "      <td>0.0</td>\n",
       "      <td>uc irvine</td>\n",
       "      <td>1414.0</td>\n",
       "      <td>74.0</td>\n",
       "      <td>cal st. fullerton</td>\n",
       "      <td>1168.0</td>\n",
       "      <td>67.0</td>\n",
       "      <td>7.0</td>\n",
       "      <td>...</td>\n",
       "      <td>0.362272</td>\n",
       "      <td>0.387864</td>\n",
       "      <td>0.689468</td>\n",
       "      <td>10</td>\n",
       "      <td>0</td>\n",
       "      <td>0</td>\n",
       "      <td>0</td>\n",
       "      <td>0</td>\n",
       "      <td>0</td>\n",
       "      <td>0</td>\n",
       "    </tr>\n",
       "    <tr>\n",
       "      <td>3</td>\n",
       "      <td>2004</td>\n",
       "      <td>01/29/2004</td>\n",
       "      <td>0.0</td>\n",
       "      <td>cal poly slo</td>\n",
       "      <td>1142.0</td>\n",
       "      <td>80.0</td>\n",
       "      <td>cal st. fullerton</td>\n",
       "      <td>1168.0</td>\n",
       "      <td>71.0</td>\n",
       "      <td>5.5</td>\n",
       "      <td>...</td>\n",
       "      <td>0.362272</td>\n",
       "      <td>0.387864</td>\n",
       "      <td>0.689468</td>\n",
       "      <td>10</td>\n",
       "      <td>0</td>\n",
       "      <td>0</td>\n",
       "      <td>0</td>\n",
       "      <td>0</td>\n",
       "      <td>0</td>\n",
       "      <td>0</td>\n",
       "    </tr>\n",
       "    <tr>\n",
       "      <td>4</td>\n",
       "      <td>2004</td>\n",
       "      <td>02/21/2004</td>\n",
       "      <td>0.0</td>\n",
       "      <td>utah st.</td>\n",
       "      <td>1429.0</td>\n",
       "      <td>87.0</td>\n",
       "      <td>cal st. fullerton</td>\n",
       "      <td>1168.0</td>\n",
       "      <td>61.0</td>\n",
       "      <td>17.0</td>\n",
       "      <td>...</td>\n",
       "      <td>0.362272</td>\n",
       "      <td>0.387864</td>\n",
       "      <td>0.689468</td>\n",
       "      <td>10</td>\n",
       "      <td>0</td>\n",
       "      <td>0</td>\n",
       "      <td>0</td>\n",
       "      <td>0</td>\n",
       "      <td>0</td>\n",
       "      <td>0</td>\n",
       "    </tr>\n",
       "  </tbody>\n",
       "</table>\n",
       "<p>5 rows × 54 columns</p>\n",
       "</div>"
      ],
      "text/plain": [
       "   Season        date  is_tourney          home  HTeamID  hscore  \\\n",
       "0    2004  11/24/2003         0.0   arizona st.   1113.0    83.0   \n",
       "1    2004  12/01/2003         0.0    pepperdine   1337.0    74.0   \n",
       "2    2004  01/17/2004         0.0     uc irvine   1414.0    74.0   \n",
       "3    2004  01/29/2004         0.0  cal poly slo   1142.0    80.0   \n",
       "4    2004  02/21/2004         0.0      utah st.   1429.0    87.0   \n",
       "\n",
       "                road  RTeamID  rscore  line  ...      RFG3  RFG3opponent  \\\n",
       "0  cal st. fullerton   1168.0    76.0  19.0  ...  0.362272      0.387864   \n",
       "1  cal st. fullerton   1168.0    78.0  17.0  ...  0.362272      0.387864   \n",
       "2  cal st. fullerton   1168.0    67.0   7.0  ...  0.362272      0.387864   \n",
       "3  cal st. fullerton   1168.0    71.0   5.5  ...  0.362272      0.387864   \n",
       "4  cal st. fullerton   1168.0    61.0  17.0  ...  0.362272      0.387864   \n",
       "\n",
       "        RFT  Rwins Rwins_top25  Rwins_top5  Htourny20plus  Rtourny20plus  \\\n",
       "0  0.689468     10           0           0              0              0   \n",
       "1  0.689468     10           0           0              0              0   \n",
       "2  0.689468     10           0           0              0              0   \n",
       "3  0.689468     10           0           0              0              0   \n",
       "4  0.689468     10           0           0              0              0   \n",
       "\n",
       "   HBig4Conf RBig4Conf  \n",
       "0          0         0  \n",
       "1          0         0  \n",
       "2          0         0  \n",
       "3          0         0  \n",
       "4          0         0  \n",
       "\n",
       "[5 rows x 54 columns]"
      ]
     },
     "execution_count": 5,
     "metadata": {},
     "output_type": "execute_result"
    }
   ],
   "source": [
    "all_games_df.head()"
   ]
  },
  {
   "cell_type": "code",
   "execution_count": 6,
   "metadata": {},
   "outputs": [
    {
     "name": "stdout",
     "output_type": "stream",
     "text": [
      "<class 'pandas.core.frame.DataFrame'>\n",
      "RangeIndex: 49062 entries, 0 to 49061\n",
      "Data columns (total 54 columns):\n",
      "Season            49062 non-null int64\n",
      "date              49062 non-null object\n",
      "is_tourney        49062 non-null float64\n",
      "home              49062 non-null object\n",
      "HTeamID           49062 non-null float64\n",
      "hscore            49062 non-null float64\n",
      "road              49062 non-null object\n",
      "RTeamID           49062 non-null float64\n",
      "rscore            49062 non-null float64\n",
      "line              49062 non-null float64\n",
      "lineavg           49062 non-null float64\n",
      "Hwin              49062 non-null int64\n",
      "HSeed             49062 non-null float64\n",
      "RSeed             49062 non-null float64\n",
      "Hconf             49062 non-null object\n",
      "Hadjem            49062 non-null float64\n",
      "Hadjo             49062 non-null float64\n",
      "Hadjd             49062 non-null float64\n",
      "Hluck             49062 non-null float64\n",
      "Rconf             49062 non-null object\n",
      "Radjem            49062 non-null float64\n",
      "Radjo             49062 non-null float64\n",
      "Radjd             49062 non-null float64\n",
      "Rluck             49062 non-null float64\n",
      "HRankPOM          49062 non-null int64\n",
      "RRankPOM          49062 non-null int64\n",
      "HScore            49062 non-null float64\n",
      "HOpponentScore    49062 non-null float64\n",
      "HTOmargin         49062 non-null float64\n",
      "HPointMargin      49062 non-null float64\n",
      "HFG               49062 non-null float64\n",
      "HFGopponent       49062 non-null float64\n",
      "HFG3              49062 non-null float64\n",
      "HFG3opponent      49062 non-null float64\n",
      "HFT               49062 non-null float64\n",
      "Hwins             49062 non-null int64\n",
      "Hwins_top25       49062 non-null int64\n",
      "Hwins_top5        49062 non-null int64\n",
      "RScore            49062 non-null float64\n",
      "ROpponentScore    49062 non-null float64\n",
      "RTOmargin         49062 non-null float64\n",
      "RPointMargin      49062 non-null float64\n",
      "RFG               49062 non-null float64\n",
      "RFGopponent       49062 non-null float64\n",
      "RFG3              49062 non-null float64\n",
      "RFG3opponent      49062 non-null float64\n",
      "RFT               49062 non-null float64\n",
      "Rwins             49062 non-null int64\n",
      "Rwins_top25       49062 non-null int64\n",
      "Rwins_top5        49062 non-null int64\n",
      "Htourny20plus     49062 non-null int64\n",
      "Rtourny20plus     49062 non-null int64\n",
      "HBig4Conf         49062 non-null int64\n",
      "RBig4Conf         49062 non-null int64\n",
      "dtypes: float64(35), int64(14), object(5)\n",
      "memory usage: 20.2+ MB\n"
     ]
    }
   ],
   "source": [
    "all_games_df.info()"
   ]
  },
  {
   "cell_type": "code",
   "execution_count": 7,
   "metadata": {},
   "outputs": [],
   "source": [
    "tourney_games_df = all_games_df[all_games_df['is_tourney'] == 1]"
   ]
  },
  {
   "cell_type": "code",
   "execution_count": 8,
   "metadata": {},
   "outputs": [
    {
     "data": {
      "text/plain": [
       "Index(['Season', 'date', 'is_tourney', 'home', 'HTeamID', 'hscore', 'road',\n",
       "       'RTeamID', 'rscore', 'line', 'lineavg', 'Hwin', 'HSeed', 'RSeed',\n",
       "       'Hconf', 'Hadjem', 'Hadjo', 'Hadjd', 'Hluck', 'Rconf', 'Radjem',\n",
       "       'Radjo', 'Radjd', 'Rluck', 'HRankPOM', 'RRankPOM', 'HScore',\n",
       "       'HOpponentScore', 'HTOmargin', 'HPointMargin', 'HFG', 'HFGopponent',\n",
       "       'HFG3', 'HFG3opponent', 'HFT', 'Hwins', 'Hwins_top25', 'Hwins_top5',\n",
       "       'RScore', 'ROpponentScore', 'RTOmargin', 'RPointMargin', 'RFG',\n",
       "       'RFGopponent', 'RFG3', 'RFG3opponent', 'RFT', 'Rwins', 'Rwins_top25',\n",
       "       'Rwins_top5', 'Htourny20plus', 'Rtourny20plus', 'HBig4Conf',\n",
       "       'RBig4Conf'],\n",
       "      dtype='object')"
      ]
     },
     "execution_count": 8,
     "metadata": {},
     "output_type": "execute_result"
    }
   ],
   "source": [
    "tourney_games_df.columns"
   ]
  },
  {
   "cell_type": "code",
   "execution_count": 9,
   "metadata": {},
   "outputs": [],
   "source": [
    "non_tourney_games_df = all_games_df[all_games_df['is_tourney'] == 0]"
   ]
  },
  {
   "cell_type": "code",
   "execution_count": 10,
   "metadata": {},
   "outputs": [],
   "source": [
    "test_combos_df = pd.read_csv('Data/test_combos_df_19.csv')\n",
    "test_combos_df = test_combos_df.sort_values(by=['ID']).reset_index(drop=True)"
   ]
  },
  {
   "cell_type": "markdown",
   "metadata": {},
   "source": [
    "### Selected Features to Model"
   ]
  },
  {
   "cell_type": "markdown",
   "metadata": {},
   "source": [
    "I did not end up using these features, but I plan on it in future iterations."
   ]
  },
  {
   "cell_type": "code",
   "execution_count": 11,
   "metadata": {},
   "outputs": [],
   "source": [
    "ind_var_selected = [\n",
    "'is_tourney', \n",
    "'HRankPOM',\n",
    "'RRankPOM',\n",
    "'line', \n",
    "'HTeamID', \n",
    "'RTeamID',\n",
    "'Hwins_top25',\n",
    "'Rwins_top25',\n",
    "'HPointMargin',\n",
    "'RPointMargin',\n",
    "'HFG',\n",
    "'RFG',\n",
    "'HFG3',\n",
    "'RFG3',\n",
    "'Hadjem',\n",
    "'Hadjo',\n",
    "'Hadjd',\n",
    "'Hluck',\n",
    "'Radjem',\n",
    "'Radjo',\n",
    "'Radjd',\n",
    "'Rluck',\n",
    "'Htourny20plus',\n",
    "'Rtourny20plus',\n",
    "'HBig4Conf',\n",
    "'RBig4Conf', \n",
    "'HSeed',\n",
    "'RSeed'\n",
    "]"
   ]
  },
  {
   "cell_type": "markdown",
   "metadata": {},
   "source": [
    "Here I created a set of testing data."
   ]
  },
  {
   "cell_type": "code",
   "execution_count": 12,
   "metadata": {},
   "outputs": [],
   "source": [
    "test_ids = test_combos_df['ID'].reset_index(drop=True)\n",
    "X_test = test_combos_df[['is_tourney','HRankPOM','RRankPOM', 'HTeamID', 'RTeamID', 'Hwins_top25','Rwins_top25', \n",
    "                         'HPointMargin','RPointMargin','HFG','RFG','HFG3','RFG3','Hadjem','Hadjo', \n",
    "                         'Hadjd','Hluck','Radjem','Radjo','Radjd','Rluck','Htourny20plus', \n",
    "                         'Rtourny20plus','HBig4Conf','RBig4Conf','HSeed','RSeed']].reset_index(drop=True)"
   ]
  },
  {
   "cell_type": "markdown",
   "metadata": {},
   "source": [
    "Here I am going to hold out two years of tournament data to test the model on. I will train the model on all of the data prior to 2017."
   ]
  },
  {
   "cell_type": "code",
   "execution_count": 104,
   "metadata": {},
   "outputs": [],
   "source": [
    "# Predict the last two years as a test set (2017, 2018):\n",
    "temp_df = all_games_df[all_games_df['Season']>2016]\n",
    "temp_df = temp_df[temp_df['is_tourney']==1]\n",
    "X_valid = temp_df[ind_var_selected].reset_index(drop=True)\n",
    "y_valid = temp_df['Hwin'].reset_index(drop=True)\n",
    "\n",
    "# Train on everything else:\n",
    "temp_df1 = all_games_df[all_games_df['Season']>2016]\n",
    "temp_df1 = temp_df1[temp_df1['is_tourney']==0]\n",
    "temp_df2 = all_games_df[all_games_df['Season']<2017]\n",
    "combined_temp_df = temp_df1.append(temp_df2)\n",
    "\n",
    "X_train = combined_temp_df[ind_var_selected].reset_index(drop=True)\n",
    "y_train = combined_temp_df['Hwin'].reset_index(drop=True)\n",
    "\n",
    "# For final predictions:\n",
    "X_train_orig = all_games_df[ind_var_selected].reset_index(drop=True)\n",
    "y_train_orig = all_games_df['Hwin'].reset_index(drop=True)"
   ]
  },
  {
   "cell_type": "code",
   "execution_count": 16,
   "metadata": {},
   "outputs": [
    {
     "data": {
      "text/plain": [
       "(49062, 28)"
      ]
     },
     "execution_count": 16,
     "metadata": {},
     "output_type": "execute_result"
    }
   ],
   "source": [
    "X_train_orig.shape"
   ]
  },
  {
   "cell_type": "code",
   "execution_count": 17,
   "metadata": {},
   "outputs": [
    {
     "name": "stdout",
     "output_type": "stream",
     "text": [
      "<class 'pandas.core.frame.DataFrame'>\n",
      "RangeIndex: 134 entries, 0 to 133\n",
      "Data columns (total 28 columns):\n",
      "is_tourney       134 non-null float64\n",
      "HRankPOM         134 non-null int64\n",
      "RRankPOM         134 non-null int64\n",
      "line             134 non-null float64\n",
      "HTeamID          134 non-null float64\n",
      "RTeamID          134 non-null float64\n",
      "Hwins_top25      134 non-null int64\n",
      "Rwins_top25      134 non-null int64\n",
      "HPointMargin     134 non-null float64\n",
      "RPointMargin     134 non-null float64\n",
      "HFG              134 non-null float64\n",
      "RFG              134 non-null float64\n",
      "HFG3             134 non-null float64\n",
      "RFG3             134 non-null float64\n",
      "Hadjem           134 non-null float64\n",
      "Hadjo            134 non-null float64\n",
      "Hadjd            134 non-null float64\n",
      "Hluck            134 non-null float64\n",
      "Radjem           134 non-null float64\n",
      "Radjo            134 non-null float64\n",
      "Radjd            134 non-null float64\n",
      "Rluck            134 non-null float64\n",
      "Htourny20plus    134 non-null int64\n",
      "Rtourny20plus    134 non-null int64\n",
      "HBig4Conf        134 non-null int64\n",
      "RBig4Conf        134 non-null int64\n",
      "HSeed            134 non-null float64\n",
      "RSeed            134 non-null float64\n",
      "dtypes: float64(20), int64(8)\n",
      "memory usage: 29.4 KB\n"
     ]
    }
   ],
   "source": [
    "X_valid.info()"
   ]
  },
  {
   "cell_type": "code",
   "execution_count": 18,
   "metadata": {},
   "outputs": [],
   "source": [
    "#Create second holdout set to double-check not overfit and check model stability (season 2016)\n",
    "temp_df16 = all_games_df[all_games_df['Season']==2016]\n",
    "temp_df16 = temp_df16[temp_df16['is_tourney']==1]\n",
    "X_valid16 = temp_df16[ind_var_selected].reset_index(drop=True)\n",
    "y_valid16 = temp_df16['Hwin'].reset_index(drop=True)\n",
    "\n",
    "temp_df1_16 = all_games_df[all_games_df['Season']==2016]\n",
    "temp_df1_16 = temp_df1_16[temp_df1_16['is_tourney']==0]\n",
    "temp_df2_16 = all_games_df[all_games_df['Season']!=2016]\n",
    "combined_temp_df_16 = temp_df1_16.append(temp_df2_16)\n",
    "\n",
    "X_train16 = combined_temp_df_16[ind_var_selected].reset_index(drop=True)\n",
    "y_train16 = combined_temp_df_16['Hwin'].reset_index(drop=True)"
   ]
  },
  {
   "cell_type": "markdown",
   "metadata": {},
   "source": [
    "### Make all selected features floats"
   ]
  },
  {
   "cell_type": "code",
   "execution_count": 19,
   "metadata": {},
   "outputs": [],
   "source": [
    "X_test = X_test.astype(\"float64\")\n",
    "\n",
    "X_train_orig = X_train_orig.astype(\"float64\")\n",
    "y_train_orig = y_train_orig.astype(\"float64\")\n",
    "\n",
    "X_train = X_train.astype(\"float64\")\n",
    "X_valid = X_valid.astype(\"float64\")\n",
    "y_train = y_train.astype(\"float64\")\n",
    "y_valid = y_valid.astype(\"float64\")\n",
    "\n",
    "X_train16 = X_train16.astype(\"float64\")\n",
    "X_valid16 = X_valid16.astype(\"float64\")\n",
    "y_train16 = y_train16.astype(\"float64\")\n",
    "y_valid16 = y_valid16.astype(\"float64\")"
   ]
  },
  {
   "cell_type": "markdown",
   "metadata": {},
   "source": [
    "### Create a Function to Calculate LogLoss"
   ]
  },
  {
   "cell_type": "code",
   "execution_count": 20,
   "metadata": {},
   "outputs": [],
   "source": [
    "def LogLoss(predictions, realizations):\n",
    "    predictions_use = predictions.clip(0)\n",
    "    realizations_use = realizations.clip(0)\n",
    "    LogLoss = -np.mean( (realizations_use * np.log(predictions_use)) + \n",
    "                        (1 - realizations_use) * np.log(1 - predictions_use) )\n",
    "    return LogLoss"
   ]
  },
  {
   "cell_type": "markdown",
   "metadata": {},
   "source": [
    "### Create a Benchmark to try and beat with my Model"
   ]
  },
  {
   "cell_type": "code",
   "execution_count": 21,
   "metadata": {},
   "outputs": [],
   "source": [
    "bench_5050 = np.repeat(0.5, len(y_valid))"
   ]
  },
  {
   "cell_type": "markdown",
   "metadata": {},
   "source": [
    "This benchmark finds the LogLoss if the model gives each game a 50/50 probability."
   ]
  },
  {
   "cell_type": "code",
   "execution_count": 22,
   "metadata": {},
   "outputs": [
    {
     "data": {
      "text/plain": [
       "0.6931471805599454"
      ]
     },
     "execution_count": 22,
     "metadata": {},
     "output_type": "execute_result"
    }
   ],
   "source": [
    "LogLoss(bench_5050, y_valid)"
   ]
  },
  {
   "cell_type": "markdown",
   "metadata": {},
   "source": [
    "### LogReg Model"
   ]
  },
  {
   "cell_type": "markdown",
   "metadata": {},
   "source": [
    "This model tries to predict the winners based on the betting markets alone."
   ]
  },
  {
   "cell_type": "code",
   "execution_count": 25,
   "metadata": {},
   "outputs": [],
   "source": [
    "Z1 = LogisticRegression(C = 1e9, random_state=23)\n",
    "Z1.fit(X_train[['line']], y_train)\n",
    "Z1_pred = pd.DataFrame(Z1.predict_proba(X_valid[['line']]))[1]"
   ]
  },
  {
   "cell_type": "code",
   "execution_count": 26,
   "metadata": {},
   "outputs": [
    {
     "data": {
      "text/plain": [
       "0.5501231760605553"
      ]
     },
     "execution_count": 26,
     "metadata": {},
     "output_type": "execute_result"
    }
   ],
   "source": [
    "LogLoss(Z1_pred, y_valid)"
   ]
  },
  {
   "cell_type": "markdown",
   "metadata": {},
   "source": [
    "The betting markets clearly did much better than the 50/50 benchmark."
   ]
  },
  {
   "cell_type": "markdown",
   "metadata": {},
   "source": [
    "This model uses only each teams adjusted offensive and defensive efficiences from Kenpom."
   ]
  },
  {
   "cell_type": "code",
   "execution_count": 27,
   "metadata": {},
   "outputs": [],
   "source": [
    "Z2 = LogisticRegression(C = 1e9, random_state=23)\n",
    "Z2.fit(X_train[['Hadjo','Hadjd','Radjo','Radjd']], y_train)\n",
    "Z2_pred = pd.DataFrame(Z2.predict_proba(X_valid[['Hadjo','Hadjd','Radjo','Radjd']]))[1]"
   ]
  },
  {
   "cell_type": "code",
   "execution_count": 28,
   "metadata": {},
   "outputs": [
    {
     "data": {
      "text/plain": [
       "0.5347689637545485"
      ]
     },
     "execution_count": 28,
     "metadata": {},
     "output_type": "execute_result"
    }
   ],
   "source": [
    "LogLoss(Z2_pred, y_valid)"
   ]
  },
  {
   "cell_type": "markdown",
   "metadata": {},
   "source": [
    "The Kenpom efficiency model does even better than the betting markets."
   ]
  },
  {
   "cell_type": "code",
   "execution_count": 29,
   "metadata": {},
   "outputs": [],
   "source": [
    "Z1 = LogisticRegression(C = 1e9, random_state=23)\n",
    "Z1.fit(X_train16[['line']], y_train16)\n",
    "Z1_pred = pd.DataFrame(Z1.predict_proba(X_valid16[['line']]))[1]"
   ]
  },
  {
   "cell_type": "code",
   "execution_count": 30,
   "metadata": {},
   "outputs": [
    {
     "data": {
      "text/plain": [
       "0.5380737902211371"
      ]
     },
     "execution_count": 30,
     "metadata": {},
     "output_type": "execute_result"
    }
   ],
   "source": [
    "LogLoss(Z1_pred, y_valid16)"
   ]
  },
  {
   "cell_type": "code",
   "execution_count": 31,
   "metadata": {},
   "outputs": [],
   "source": [
    "Z2 = LogisticRegression(C = 1e9, random_state=23)\n",
    "Z2.fit(X_train16[['Hadjo','Hadjd','Radjo','Radjd']], y_train16)\n",
    "Z2_pred = pd.DataFrame(Z2.predict_proba(X_valid16[['Hadjo','Hadjd','Radjo','Radjd']]))[1]"
   ]
  },
  {
   "cell_type": "code",
   "execution_count": 32,
   "metadata": {},
   "outputs": [],
   "source": [
    "Z2_pred_probs = Z2.predict_proba(X_valid16[['Hadjo','Hadjd','Radjo','Radjd']])"
   ]
  },
  {
   "cell_type": "code",
   "execution_count": 33,
   "metadata": {
    "scrolled": true
   },
   "outputs": [
    {
     "data": {
      "text/plain": [
       "0.5214560672166632"
      ]
     },
     "execution_count": 33,
     "metadata": {},
     "output_type": "execute_result"
    }
   ],
   "source": [
    "LogLoss(Z2_pred, y_valid16)"
   ]
  },
  {
   "cell_type": "code",
   "execution_count": 34,
   "metadata": {},
   "outputs": [],
   "source": [
    "Z3_pred = pd.DataFrame(Z2.predict_proba(X_test[['Hadjo','Hadjd','Radjo','Radjd']]))[1]"
   ]
  },
  {
   "cell_type": "code",
   "execution_count": 35,
   "metadata": {},
   "outputs": [],
   "source": [
    "Z3_pred_probs = Z2.predict_proba(X_test[['Hadjo','Hadjd','Radjo','Radjd']])"
   ]
  },
  {
   "cell_type": "code",
   "execution_count": 36,
   "metadata": {},
   "outputs": [
    {
     "data": {
      "text/plain": [
       "array([[0.15586459, 0.84413541],\n",
       "       [0.03906985, 0.96093015],\n",
       "       [0.09982488, 0.90017512],\n",
       "       ...,\n",
       "       [0.28076475, 0.71923525],\n",
       "       [0.08103121, 0.91896879],\n",
       "       [0.10904271, 0.89095729]])"
      ]
     },
     "execution_count": 36,
     "metadata": {},
     "output_type": "execute_result"
    }
   ],
   "source": [
    "Z3_pred_probs"
   ]
  },
  {
   "cell_type": "code",
   "execution_count": 37,
   "metadata": {},
   "outputs": [
    {
     "data": {
      "text/plain": [
       "2278"
      ]
     },
     "execution_count": 37,
     "metadata": {},
     "output_type": "execute_result"
    }
   ],
   "source": [
    "len(Z3_pred_probs)"
   ]
  },
  {
   "cell_type": "markdown",
   "metadata": {},
   "source": [
    "Add Predictions to Dataframe"
   ]
  },
  {
   "cell_type": "code",
   "execution_count": 38,
   "metadata": {},
   "outputs": [],
   "source": [
    "probs_list = list(range(len(Z3_pred_probs)))"
   ]
  },
  {
   "cell_type": "code",
   "execution_count": 39,
   "metadata": {},
   "outputs": [],
   "source": [
    "probs = []\n",
    "for prob in Z3_pred_probs:\n",
    "        home = prob[1]\n",
    "        away = prob[0]\n",
    "        prob_dict = {'home_w_prob' : home, 'away_w_prob' : away}\n",
    "        probs.append(prob_dict)"
   ]
  },
  {
   "cell_type": "code",
   "execution_count": 40,
   "metadata": {},
   "outputs": [],
   "source": [
    "df = pd.DataFrame(probs)"
   ]
  },
  {
   "cell_type": "code",
   "execution_count": 41,
   "metadata": {},
   "outputs": [],
   "source": [
    "preds19 = pd.concat([X_test, df], axis=1, sort=False)"
   ]
  },
  {
   "cell_type": "code",
   "execution_count": 42,
   "metadata": {},
   "outputs": [],
   "source": [
    "preds19 = preds19[['HTeamID', 'RTeamID', 'home_w_prob']]"
   ]
  },
  {
   "cell_type": "code",
   "execution_count": 43,
   "metadata": {
    "scrolled": true
   },
   "outputs": [
    {
     "data": {
      "text/html": [
       "<div>\n",
       "<style scoped>\n",
       "    .dataframe tbody tr th:only-of-type {\n",
       "        vertical-align: middle;\n",
       "    }\n",
       "\n",
       "    .dataframe tbody tr th {\n",
       "        vertical-align: top;\n",
       "    }\n",
       "\n",
       "    .dataframe thead th {\n",
       "        text-align: right;\n",
       "    }\n",
       "</style>\n",
       "<table border=\"1\" class=\"dataframe\">\n",
       "  <thead>\n",
       "    <tr style=\"text-align: right;\">\n",
       "      <th></th>\n",
       "      <th>HTeamID</th>\n",
       "      <th>RTeamID</th>\n",
       "      <th>home_w_prob</th>\n",
       "    </tr>\n",
       "  </thead>\n",
       "  <tbody>\n",
       "    <tr>\n",
       "      <td>0</td>\n",
       "      <td>1113.0</td>\n",
       "      <td>1101.0</td>\n",
       "      <td>0.844135</td>\n",
       "    </tr>\n",
       "    <tr>\n",
       "      <td>1</td>\n",
       "      <td>1120.0</td>\n",
       "      <td>1101.0</td>\n",
       "      <td>0.960930</td>\n",
       "    </tr>\n",
       "    <tr>\n",
       "      <td>2</td>\n",
       "      <td>1124.0</td>\n",
       "      <td>1101.0</td>\n",
       "      <td>0.900175</td>\n",
       "    </tr>\n",
       "    <tr>\n",
       "      <td>3</td>\n",
       "      <td>1125.0</td>\n",
       "      <td>1101.0</td>\n",
       "      <td>0.872582</td>\n",
       "    </tr>\n",
       "    <tr>\n",
       "      <td>4</td>\n",
       "      <td>1101.0</td>\n",
       "      <td>1133.0</td>\n",
       "      <td>0.701342</td>\n",
       "    </tr>\n",
       "  </tbody>\n",
       "</table>\n",
       "</div>"
      ],
      "text/plain": [
       "   HTeamID  RTeamID  home_w_prob\n",
       "0   1113.0   1101.0     0.844135\n",
       "1   1120.0   1101.0     0.960930\n",
       "2   1124.0   1101.0     0.900175\n",
       "3   1125.0   1101.0     0.872582\n",
       "4   1101.0   1133.0     0.701342"
      ]
     },
     "execution_count": 43,
     "metadata": {},
     "output_type": "execute_result"
    }
   ],
   "source": [
    "preds19.head()"
   ]
  },
  {
   "cell_type": "code",
   "execution_count": 44,
   "metadata": {},
   "outputs": [],
   "source": [
    "teams_df = pd.read_csv('Data/mens-machine-learning-competition-2019/DataFiles/Teams.csv')"
   ]
  },
  {
   "cell_type": "code",
   "execution_count": 45,
   "metadata": {},
   "outputs": [],
   "source": [
    "teams_df = teams_df[['TeamID', 'TeamName']]"
   ]
  },
  {
   "cell_type": "code",
   "execution_count": 46,
   "metadata": {},
   "outputs": [],
   "source": [
    "teams_df = teams_df.rename(columns={\"TeamID\": \"HTeamID\"})"
   ]
  },
  {
   "cell_type": "code",
   "execution_count": 47,
   "metadata": {},
   "outputs": [],
   "source": [
    "preds19 = pd.merge(preds19, teams_df, how='left', on=['HTeamID'])"
   ]
  },
  {
   "cell_type": "code",
   "execution_count": 48,
   "metadata": {},
   "outputs": [],
   "source": [
    "preds19 = preds19.rename(columns={\"TeamName\": \"HTeamName\"})"
   ]
  },
  {
   "cell_type": "code",
   "execution_count": 49,
   "metadata": {
    "scrolled": true
   },
   "outputs": [
    {
     "data": {
      "text/html": [
       "<div>\n",
       "<style scoped>\n",
       "    .dataframe tbody tr th:only-of-type {\n",
       "        vertical-align: middle;\n",
       "    }\n",
       "\n",
       "    .dataframe tbody tr th {\n",
       "        vertical-align: top;\n",
       "    }\n",
       "\n",
       "    .dataframe thead th {\n",
       "        text-align: right;\n",
       "    }\n",
       "</style>\n",
       "<table border=\"1\" class=\"dataframe\">\n",
       "  <thead>\n",
       "    <tr style=\"text-align: right;\">\n",
       "      <th></th>\n",
       "      <th>HTeamID</th>\n",
       "      <th>RTeamID</th>\n",
       "      <th>home_w_prob</th>\n",
       "      <th>HTeamName</th>\n",
       "    </tr>\n",
       "  </thead>\n",
       "  <tbody>\n",
       "    <tr>\n",
       "      <td>0</td>\n",
       "      <td>1113.0</td>\n",
       "      <td>1101.0</td>\n",
       "      <td>0.844135</td>\n",
       "      <td>Arizona St</td>\n",
       "    </tr>\n",
       "    <tr>\n",
       "      <td>1</td>\n",
       "      <td>1120.0</td>\n",
       "      <td>1101.0</td>\n",
       "      <td>0.960930</td>\n",
       "      <td>Auburn</td>\n",
       "    </tr>\n",
       "    <tr>\n",
       "      <td>2</td>\n",
       "      <td>1124.0</td>\n",
       "      <td>1101.0</td>\n",
       "      <td>0.900175</td>\n",
       "      <td>Baylor</td>\n",
       "    </tr>\n",
       "    <tr>\n",
       "      <td>3</td>\n",
       "      <td>1125.0</td>\n",
       "      <td>1101.0</td>\n",
       "      <td>0.872582</td>\n",
       "      <td>Belmont</td>\n",
       "    </tr>\n",
       "    <tr>\n",
       "      <td>4</td>\n",
       "      <td>1101.0</td>\n",
       "      <td>1133.0</td>\n",
       "      <td>0.701342</td>\n",
       "      <td>Abilene Chr</td>\n",
       "    </tr>\n",
       "  </tbody>\n",
       "</table>\n",
       "</div>"
      ],
      "text/plain": [
       "   HTeamID  RTeamID  home_w_prob    HTeamName\n",
       "0   1113.0   1101.0     0.844135   Arizona St\n",
       "1   1120.0   1101.0     0.960930       Auburn\n",
       "2   1124.0   1101.0     0.900175       Baylor\n",
       "3   1125.0   1101.0     0.872582      Belmont\n",
       "4   1101.0   1133.0     0.701342  Abilene Chr"
      ]
     },
     "execution_count": 49,
     "metadata": {},
     "output_type": "execute_result"
    }
   ],
   "source": [
    "preds19.head()"
   ]
  },
  {
   "cell_type": "code",
   "execution_count": 50,
   "metadata": {},
   "outputs": [],
   "source": [
    "teams_df = teams_df.rename(columns={\"HTeamID\": \"RTeamID\"})"
   ]
  },
  {
   "cell_type": "code",
   "execution_count": 51,
   "metadata": {},
   "outputs": [],
   "source": [
    "preds19 = pd.merge(preds19, teams_df, how='left', on=['RTeamID'])"
   ]
  },
  {
   "cell_type": "code",
   "execution_count": 52,
   "metadata": {},
   "outputs": [],
   "source": [
    "preds19 = preds19.rename(columns={\"TeamName\": \"RTeamName\"})"
   ]
  },
  {
   "cell_type": "code",
   "execution_count": 53,
   "metadata": {},
   "outputs": [],
   "source": [
    "preds19 = preds19[['HTeamName', 'RTeamName', 'home_w_prob']]"
   ]
  },
  {
   "cell_type": "code",
   "execution_count": 54,
   "metadata": {},
   "outputs": [
    {
     "data": {
      "text/plain": [
       "11"
      ]
     },
     "execution_count": 54,
     "metadata": {},
     "output_type": "execute_result"
    }
   ],
   "source": [
    "len(preds19[preds19['home_w_prob'] < 0.5])"
   ]
  },
  {
   "cell_type": "code",
   "execution_count": 55,
   "metadata": {
    "scrolled": false
   },
   "outputs": [
    {
     "data": {
      "text/plain": [
       "2278"
      ]
     },
     "execution_count": 55,
     "metadata": {},
     "output_type": "execute_result"
    }
   ],
   "source": [
    "len(preds19)"
   ]
  },
  {
   "cell_type": "code",
   "execution_count": 56,
   "metadata": {},
   "outputs": [
    {
     "data": {
      "text/html": [
       "<div>\n",
       "<style scoped>\n",
       "    .dataframe tbody tr th:only-of-type {\n",
       "        vertical-align: middle;\n",
       "    }\n",
       "\n",
       "    .dataframe tbody tr th {\n",
       "        vertical-align: top;\n",
       "    }\n",
       "\n",
       "    .dataframe thead th {\n",
       "        text-align: right;\n",
       "    }\n",
       "</style>\n",
       "<table border=\"1\" class=\"dataframe\">\n",
       "  <thead>\n",
       "    <tr style=\"text-align: right;\">\n",
       "      <th></th>\n",
       "      <th>HTeamName</th>\n",
       "      <th>RTeamName</th>\n",
       "      <th>home_w_prob</th>\n",
       "    </tr>\n",
       "  </thead>\n",
       "  <tbody>\n",
       "    <tr>\n",
       "      <td>660</td>\n",
       "      <td>F Dickinson</td>\n",
       "      <td>Prairie View</td>\n",
       "      <td>0.643591</td>\n",
       "    </tr>\n",
       "  </tbody>\n",
       "</table>\n",
       "</div>"
      ],
      "text/plain": [
       "       HTeamName     RTeamName  home_w_prob\n",
       "660  F Dickinson  Prairie View     0.643591"
      ]
     },
     "execution_count": 56,
     "metadata": {},
     "output_type": "execute_result"
    }
   ],
   "source": [
    "preds19.loc[(preds19['HTeamName'] == 'F Dickinson') & (preds19['RTeamName'] == \"Prairie View\")]"
   ]
  },
  {
   "cell_type": "code",
   "execution_count": 57,
   "metadata": {},
   "outputs": [],
   "source": [
    "# sorted(list(preds19['RTeamName'].unique()))"
   ]
  },
  {
   "cell_type": "markdown",
   "metadata": {},
   "source": [
    "### Decision Tree"
   ]
  },
  {
   "cell_type": "code",
   "execution_count": 101,
   "metadata": {},
   "outputs": [],
   "source": [
    "# from sklearn.tree import DecisionTreeClassifier"
   ]
  },
  {
   "cell_type": "code",
   "execution_count": 102,
   "metadata": {},
   "outputs": [],
   "source": [
    "# from sklearn.metrics import log_loss"
   ]
  },
  {
   "cell_type": "code",
   "execution_count": 103,
   "metadata": {},
   "outputs": [],
   "source": [
    "# dt = DecisionTreeClassifier()\n",
    "# dt.fit(X_train, y_train)\n",
    "# dt_prob = pd.DataFrame(dt.predict_proba(X_valid))\n",
    "# LogLoss(dt_prob[1], y_valid)"
   ]
  },
  {
   "cell_type": "markdown",
   "metadata": {},
   "source": [
    "### Random Forest"
   ]
  },
  {
   "cell_type": "code",
   "execution_count": 61,
   "metadata": {
    "scrolled": true
   },
   "outputs": [
    {
     "data": {
      "text/plain": [
       "0.5636727226182429"
      ]
     },
     "execution_count": 61,
     "metadata": {},
     "output_type": "execute_result"
    }
   ],
   "source": [
    "clf = RandomForestClassifier(n_estimators=200, max_depth=3, min_samples_leaf=3)\n",
    "clf.fit(X_train, y_train)\n",
    "rf_prob = pd.DataFrame(clf.predict_proba(X_valid))\n",
    "LogLoss(rf_prob[1], y_valid)"
   ]
  },
  {
   "cell_type": "markdown",
   "metadata": {},
   "source": [
    "# New Model"
   ]
  },
  {
   "cell_type": "code",
   "execution_count": 62,
   "metadata": {},
   "outputs": [],
   "source": [
    "# pip install pandas sklearn sportsreference"
   ]
  },
  {
   "cell_type": "code",
   "execution_count": 63,
   "metadata": {},
   "outputs": [],
   "source": [
    "from sportsreference.ncaab.teams import Teams\n",
    "from sklearn.ensemble import RandomForestRegressor\n",
    "from sklearn.model_selection import train_test_split"
   ]
  },
  {
   "cell_type": "code",
   "execution_count": 64,
   "metadata": {},
   "outputs": [],
   "source": [
    "# FIELDS_TO_DROP = ['away_points', 'home_points', 'date', 'location',\n",
    "#                   'losing_abbr', 'losing_name', 'winner', 'winning_abbr',\n",
    "#                   'winning_name', 'home_ranking', 'away_ranking']\n",
    "\n",
    "# dataset = pd.DataFrame()\n",
    "# teams = Teams()\n",
    "# for team in teams:\n",
    "#     dataset = pd.concat([dataset, team.schedule.dataframe_extended])"
   ]
  },
  {
   "cell_type": "code",
   "execution_count": 65,
   "metadata": {},
   "outputs": [],
   "source": [
    "# X = dataset.drop(FIELDS_TO_DROP, 1).dropna().drop_duplicates()\n",
    "# y = dataset[['home_points', 'away_points']].values\n",
    "# X_train, X_test, y_train, y_test = train_test_split(X, y)\n",
    "# parameters = {'bootstrap': False,\n",
    "#               'min_samples_leaf': 3,\n",
    "#               'n_estimators': 50,\n",
    "#               'min_samples_split': 10,\n",
    "#               'max_features': 'sqrt',\n",
    "#               'max_depth': 6}\n",
    "# model = RandomForestRegressor(**parameters)\n",
    "# model.fit(X_train, y_train)\n",
    "# print(model.predict(X_test).astype(int), y_test)"
   ]
  },
  {
   "cell_type": "markdown",
   "metadata": {},
   "source": [
    "### TrueSkill"
   ]
  },
  {
   "cell_type": "code",
   "execution_count": null,
   "metadata": {},
   "outputs": [],
   "source": []
  },
  {
   "cell_type": "markdown",
   "metadata": {},
   "source": [
    "### Visuals"
   ]
  },
  {
   "cell_type": "code",
   "execution_count": 66,
   "metadata": {},
   "outputs": [
    {
     "data": {
      "text/plain": [
       "Index(['Season', 'date', 'is_tourney', 'home', 'HTeamID', 'hscore', 'road',\n",
       "       'RTeamID', 'rscore', 'line', 'lineavg', 'Hwin', 'HSeed', 'RSeed',\n",
       "       'Hconf', 'Hadjem', 'Hadjo', 'Hadjd', 'Hluck', 'Rconf', 'Radjem',\n",
       "       'Radjo', 'Radjd', 'Rluck', 'HRankPOM', 'RRankPOM', 'HScore',\n",
       "       'HOpponentScore', 'HTOmargin', 'HPointMargin', 'HFG', 'HFGopponent',\n",
       "       'HFG3', 'HFG3opponent', 'HFT', 'Hwins', 'Hwins_top25', 'Hwins_top5',\n",
       "       'RScore', 'ROpponentScore', 'RTOmargin', 'RPointMargin', 'RFG',\n",
       "       'RFGopponent', 'RFG3', 'RFG3opponent', 'RFT', 'Rwins', 'Rwins_top25',\n",
       "       'Rwins_top5', 'Htourny20plus', 'Rtourny20plus', 'HBig4Conf',\n",
       "       'RBig4Conf'],\n",
       "      dtype='object')"
      ]
     },
     "execution_count": 66,
     "metadata": {},
     "output_type": "execute_result"
    }
   ],
   "source": [
    "tourney_games_df.columns"
   ]
  },
  {
   "cell_type": "markdown",
   "metadata": {},
   "source": [
    "All of this code was written in the attempt to get make it easy to make some basic visuals for Adjusted Offensive and Defensive Efficiency. The problem that I was running into was that each row of data had two teams, and I was having trouble plotting every team on the same chart. I therefore created a new dataset with a separate row for every team."
   ]
  },
  {
   "cell_type": "code",
   "execution_count": 100,
   "metadata": {},
   "outputs": [],
   "source": [
    "# tourney_games_df['HSeed']"
   ]
  },
  {
   "cell_type": "code",
   "execution_count": 96,
   "metadata": {},
   "outputs": [],
   "source": [
    "# tourney_games_df.groupby('HSeed')['Hadjo'].mean()"
   ]
  },
  {
   "cell_type": "code",
   "execution_count": 97,
   "metadata": {},
   "outputs": [],
   "source": [
    "# tourney_games_df.groupby('RSeed')['Radjo'].mean()"
   ]
  },
  {
   "cell_type": "code",
   "execution_count": 98,
   "metadata": {
    "scrolled": true
   },
   "outputs": [],
   "source": [
    "# tourney_games_df.groupby('HSeed')['line'].mean()"
   ]
  },
  {
   "cell_type": "code",
   "execution_count": 99,
   "metadata": {},
   "outputs": [],
   "source": [
    "# tourney_games_df.groupby('RSeed')['line'].mean()"
   ]
  },
  {
   "cell_type": "code",
   "execution_count": 72,
   "metadata": {},
   "outputs": [],
   "source": [
    "trial = tourney_games_df[['HSeed']]"
   ]
  },
  {
   "cell_type": "code",
   "execution_count": 73,
   "metadata": {},
   "outputs": [],
   "source": [
    "trial = trial.rename(columns={\"HSeed\": \"Seed\"})"
   ]
  },
  {
   "cell_type": "code",
   "execution_count": 74,
   "metadata": {},
   "outputs": [],
   "source": [
    "trial2 = tourney_games_df[['RSeed']]"
   ]
  },
  {
   "cell_type": "code",
   "execution_count": 75,
   "metadata": {},
   "outputs": [],
   "source": [
    "trial2 = trial2.rename(columns={\"RSeed\": \"Seed\"})"
   ]
  },
  {
   "cell_type": "code",
   "execution_count": 76,
   "metadata": {},
   "outputs": [],
   "source": [
    "trial = trial.append(trial2)"
   ]
  },
  {
   "cell_type": "code",
   "execution_count": 77,
   "metadata": {},
   "outputs": [],
   "source": [
    "trial2 = tourney_games_df[['Hadjo']]"
   ]
  },
  {
   "cell_type": "code",
   "execution_count": 78,
   "metadata": {},
   "outputs": [],
   "source": [
    "trial2 = trial2.rename(columns={\"Hadjo\": \"Adjo\"})"
   ]
  },
  {
   "cell_type": "code",
   "execution_count": 79,
   "metadata": {},
   "outputs": [],
   "source": [
    "trial3 = tourney_games_df[['Radjo']]"
   ]
  },
  {
   "cell_type": "code",
   "execution_count": 80,
   "metadata": {},
   "outputs": [],
   "source": [
    "trial3 = trial3.rename(columns={\"Radjo\": \"Adjo\"})"
   ]
  },
  {
   "cell_type": "code",
   "execution_count": 81,
   "metadata": {},
   "outputs": [],
   "source": [
    "trial2 = trial2.append(trial3)"
   ]
  },
  {
   "cell_type": "code",
   "execution_count": 82,
   "metadata": {},
   "outputs": [],
   "source": [
    "trial = pd.concat([trial, trial2], axis=1)"
   ]
  },
  {
   "cell_type": "code",
   "execution_count": 83,
   "metadata": {},
   "outputs": [],
   "source": [
    "trial2 = tourney_games_df[['Hadjd']]"
   ]
  },
  {
   "cell_type": "code",
   "execution_count": 84,
   "metadata": {},
   "outputs": [],
   "source": [
    "trial2 = trial2.rename(columns={\"Hadjd\": \"Adjd\"})"
   ]
  },
  {
   "cell_type": "code",
   "execution_count": 85,
   "metadata": {},
   "outputs": [],
   "source": [
    "trial3 = tourney_games_df[['Radjd']]"
   ]
  },
  {
   "cell_type": "code",
   "execution_count": 86,
   "metadata": {},
   "outputs": [],
   "source": [
    "trial3 = trial3.rename(columns={\"Radjd\": \"Adjd\"})"
   ]
  },
  {
   "cell_type": "code",
   "execution_count": 87,
   "metadata": {},
   "outputs": [],
   "source": [
    "trial2 = trial2.append(trial3)"
   ]
  },
  {
   "cell_type": "code",
   "execution_count": 88,
   "metadata": {},
   "outputs": [],
   "source": [
    "trial = pd.concat([trial, trial2], axis=1)"
   ]
  },
  {
   "cell_type": "code",
   "execution_count": 89,
   "metadata": {},
   "outputs": [
    {
     "data": {
      "text/html": [
       "<div>\n",
       "<style scoped>\n",
       "    .dataframe tbody tr th:only-of-type {\n",
       "        vertical-align: middle;\n",
       "    }\n",
       "\n",
       "    .dataframe tbody tr th {\n",
       "        vertical-align: top;\n",
       "    }\n",
       "\n",
       "    .dataframe thead th {\n",
       "        text-align: right;\n",
       "    }\n",
       "</style>\n",
       "<table border=\"1\" class=\"dataframe\">\n",
       "  <thead>\n",
       "    <tr style=\"text-align: right;\">\n",
       "      <th></th>\n",
       "      <th>Seed</th>\n",
       "      <th>Adjo</th>\n",
       "      <th>Adjd</th>\n",
       "    </tr>\n",
       "  </thead>\n",
       "  <tbody>\n",
       "    <tr>\n",
       "      <td>55</td>\n",
       "      <td>6.0</td>\n",
       "      <td>113.6</td>\n",
       "      <td>95.0</td>\n",
       "    </tr>\n",
       "    <tr>\n",
       "      <td>70</td>\n",
       "      <td>8.0</td>\n",
       "      <td>112.3</td>\n",
       "      <td>95.0</td>\n",
       "    </tr>\n",
       "    <tr>\n",
       "      <td>254</td>\n",
       "      <td>1.0</td>\n",
       "      <td>120.8</td>\n",
       "      <td>88.5</td>\n",
       "    </tr>\n",
       "    <tr>\n",
       "      <td>255</td>\n",
       "      <td>2.0</td>\n",
       "      <td>114.7</td>\n",
       "      <td>92.9</td>\n",
       "    </tr>\n",
       "    <tr>\n",
       "      <td>257</td>\n",
       "      <td>3.0</td>\n",
       "      <td>115.6</td>\n",
       "      <td>94.1</td>\n",
       "    </tr>\n",
       "    <tr>\n",
       "      <td>...</td>\n",
       "      <td>...</td>\n",
       "      <td>...</td>\n",
       "      <td>...</td>\n",
       "    </tr>\n",
       "    <tr>\n",
       "      <td>48749</td>\n",
       "      <td>16.0</td>\n",
       "      <td>102.9</td>\n",
       "      <td>102.9</td>\n",
       "    </tr>\n",
       "    <tr>\n",
       "      <td>48789</td>\n",
       "      <td>16.0</td>\n",
       "      <td>104.6</td>\n",
       "      <td>111.2</td>\n",
       "    </tr>\n",
       "    <tr>\n",
       "      <td>48924</td>\n",
       "      <td>12.0</td>\n",
       "      <td>112.9</td>\n",
       "      <td>100.7</td>\n",
       "    </tr>\n",
       "    <tr>\n",
       "      <td>49012</td>\n",
       "      <td>16.0</td>\n",
       "      <td>102.3</td>\n",
       "      <td>110.6</td>\n",
       "    </tr>\n",
       "    <tr>\n",
       "      <td>49050</td>\n",
       "      <td>16.0</td>\n",
       "      <td>96.6</td>\n",
       "      <td>110.0</td>\n",
       "    </tr>\n",
       "  </tbody>\n",
       "</table>\n",
       "<p>1838 rows × 3 columns</p>\n",
       "</div>"
      ],
      "text/plain": [
       "       Seed   Adjo   Adjd\n",
       "55      6.0  113.6   95.0\n",
       "70      8.0  112.3   95.0\n",
       "254     1.0  120.8   88.5\n",
       "255     2.0  114.7   92.9\n",
       "257     3.0  115.6   94.1\n",
       "...     ...    ...    ...\n",
       "48749  16.0  102.9  102.9\n",
       "48789  16.0  104.6  111.2\n",
       "48924  12.0  112.9  100.7\n",
       "49012  16.0  102.3  110.6\n",
       "49050  16.0   96.6  110.0\n",
       "\n",
       "[1838 rows x 3 columns]"
      ]
     },
     "execution_count": 89,
     "metadata": {},
     "output_type": "execute_result"
    }
   ],
   "source": [
    "trial"
   ]
  },
  {
   "cell_type": "code",
   "execution_count": 93,
   "metadata": {},
   "outputs": [
    {
     "data": {
      "image/png": "[encoded data removed]",
      "text/plain": [
       "<Figure size 576x576 with 1 Axes>"
      ]
     },
     "metadata": {
      "needs_background": "light"
     },
     "output_type": "display_data"
    }
   ],
   "source": [
    "plt.figure(figsize = (8,8))\n",
    "sns.barplot(trial['Seed'], trial['Adjo'], color = 'blue')\n",
    "plt.title(\"Offensive Efficiency per Seed\")\n",
    "plt.xlabel(\"Offensive Efficiency\")\n",
    "plt.ylabel(\"Seed\")\n",
    "plt.ylim(100, 120)\n",
    "plt.show()"
   ]
  },
  {
   "cell_type": "code",
   "execution_count": 94,
   "metadata": {},
   "outputs": [
    {
     "data": {
      "image/png": "[encoded data removed]",
      "text/plain": [
       "<Figure size 576x576 with 1 Axes>"
      ]
     },
     "metadata": {
      "needs_background": "light"
     },
     "output_type": "display_data"
    }
   ],
   "source": [
    "plt.figure(figsize = (8,8))\n",
    "sns.barplot(trial['Seed'], trial['Adjd'], color = 'blue')\n",
    "plt.title(\"Defensive Efficiency per Seed\")\n",
    "plt.xlabel(\"Defensive Efficiency\")\n",
    "plt.ylabel(\"Seed\")\n",
    "plt.ylim(85, 105)\n",
    "plt.show()"
   ]
  },
  {
   "cell_type": "code",
   "execution_count": 688,
   "metadata": {},
   "outputs": [
    {
     "data": {
      "text/plain": [
       "Index(['Season', 'date', 'is_tourney', 'home', 'HTeamID', 'hscore', 'road',\n",
       "       'RTeamID', 'rscore', 'line', 'lineavg', 'Hwin', 'HSeed', 'RSeed',\n",
       "       'Hconf', 'Hadjem', 'Hadjo', 'Hadjd', 'Hluck', 'Rconf', 'Radjem',\n",
       "       'Radjo', 'Radjd', 'Rluck', 'HRankPOM', 'RRankPOM', 'HScore',\n",
       "       'HOpponentScore', 'HTOmargin', 'HPointMargin', 'HFG', 'HFGopponent',\n",
       "       'HFG3', 'HFG3opponent', 'HFT', 'Hwins', 'Hwins_top25', 'Hwins_top5',\n",
       "       'RScore', 'ROpponentScore', 'RTOmargin', 'RPointMargin', 'RFG',\n",
       "       'RFGopponent', 'RFG3', 'RFG3opponent', 'RFT', 'Rwins', 'Rwins_top25',\n",
       "       'Rwins_top5', 'Htourny20plus', 'Rtourny20plus', 'HBig4Conf',\n",
       "       'RBig4Conf'],\n",
       "      dtype='object')"
      ]
     },
     "execution_count": 688,
     "metadata": {},
     "output_type": "execute_result"
    }
   ],
   "source": [
    "tourney_games_df.columns"
   ]
  },
  {
   "cell_type": "code",
   "execution_count": 689,
   "metadata": {},
   "outputs": [],
   "source": [
    "x = tourney_games_df[['Hwin']]"
   ]
  },
  {
   "cell_type": "code",
   "execution_count": 690,
   "metadata": {},
   "outputs": [],
   "source": [
    "y = tourney_games_df[['Hwin']]"
   ]
  },
  {
   "cell_type": "code",
   "execution_count": 691,
   "metadata": {},
   "outputs": [],
   "source": [
    "blank_list = []\n",
    "for i in y['Hwin']:\n",
    "    if i == 1:\n",
    "        i = 0\n",
    "        blank_dict = {'Win': i}\n",
    "        blank_list.append(blank_dict)\n",
    "    else:\n",
    "        i = 1\n",
    "        blank_dict = {'Win': i}\n",
    "        blank_list.append(blank_dict)\n",
    "    "
   ]
  },
  {
   "cell_type": "code",
   "execution_count": 692,
   "metadata": {},
   "outputs": [],
   "source": [
    "y = pd.DataFrame(blank_list)"
   ]
  },
  {
   "cell_type": "code",
   "execution_count": 693,
   "metadata": {},
   "outputs": [],
   "source": [
    "x = x.rename(columns={\"Hwin\": \"Win\"})"
   ]
  },
  {
   "cell_type": "code",
   "execution_count": 694,
   "metadata": {},
   "outputs": [],
   "source": [
    "x = x.reset_index(drop=True)"
   ]
  },
  {
   "cell_type": "code",
   "execution_count": 695,
   "metadata": {},
   "outputs": [],
   "source": [
    "y = y.reset_index(drop=True)"
   ]
  },
  {
   "cell_type": "code",
   "execution_count": 696,
   "metadata": {},
   "outputs": [],
   "source": [
    "x = x.append(y)"
   ]
  },
  {
   "cell_type": "code",
   "execution_count": 697,
   "metadata": {},
   "outputs": [],
   "source": [
    "x = x.reset_index(drop=True)"
   ]
  },
  {
   "cell_type": "code",
   "execution_count": 698,
   "metadata": {},
   "outputs": [],
   "source": [
    "trial = trial.reset_index(drop=True)"
   ]
  },
  {
   "cell_type": "code",
   "execution_count": 699,
   "metadata": {},
   "outputs": [],
   "source": [
    "trial = pd.concat([trial, x], axis=1)"
   ]
  },
  {
   "cell_type": "code",
   "execution_count": 701,
   "metadata": {},
   "outputs": [
    {
     "data": {
      "text/html": [
       "<div>\n",
       "<style scoped>\n",
       "    .dataframe tbody tr th:only-of-type {\n",
       "        vertical-align: middle;\n",
       "    }\n",
       "\n",
       "    .dataframe tbody tr th {\n",
       "        vertical-align: top;\n",
       "    }\n",
       "\n",
       "    .dataframe thead th {\n",
       "        text-align: right;\n",
       "    }\n",
       "</style>\n",
       "<table border=\"1\" class=\"dataframe\">\n",
       "  <thead>\n",
       "    <tr style=\"text-align: right;\">\n",
       "      <th></th>\n",
       "      <th>Seed</th>\n",
       "      <th>Adjo</th>\n",
       "      <th>Adjd</th>\n",
       "      <th>Win</th>\n",
       "    </tr>\n",
       "  </thead>\n",
       "  <tbody>\n",
       "    <tr>\n",
       "      <td>0</td>\n",
       "      <td>6.0</td>\n",
       "      <td>113.6</td>\n",
       "      <td>95.0</td>\n",
       "      <td>1</td>\n",
       "    </tr>\n",
       "    <tr>\n",
       "      <td>1</td>\n",
       "      <td>8.0</td>\n",
       "      <td>112.3</td>\n",
       "      <td>95.0</td>\n",
       "      <td>1</td>\n",
       "    </tr>\n",
       "    <tr>\n",
       "      <td>2</td>\n",
       "      <td>1.0</td>\n",
       "      <td>120.8</td>\n",
       "      <td>88.5</td>\n",
       "      <td>1</td>\n",
       "    </tr>\n",
       "    <tr>\n",
       "      <td>3</td>\n",
       "      <td>2.0</td>\n",
       "      <td>114.7</td>\n",
       "      <td>92.9</td>\n",
       "      <td>0</td>\n",
       "    </tr>\n",
       "    <tr>\n",
       "      <td>4</td>\n",
       "      <td>3.0</td>\n",
       "      <td>115.6</td>\n",
       "      <td>94.1</td>\n",
       "      <td>0</td>\n",
       "    </tr>\n",
       "  </tbody>\n",
       "</table>\n",
       "</div>"
      ],
      "text/plain": [
       "   Seed   Adjo  Adjd  Win\n",
       "0   6.0  113.6  95.0    1\n",
       "1   8.0  112.3  95.0    1\n",
       "2   1.0  120.8  88.5    1\n",
       "3   2.0  114.7  92.9    0\n",
       "4   3.0  115.6  94.1    0"
      ]
     },
     "execution_count": 701,
     "metadata": {},
     "output_type": "execute_result"
    }
   ],
   "source": [
    "trial.head()"
   ]
  },
  {
   "cell_type": "code",
   "execution_count": 726,
   "metadata": {},
   "outputs": [
    {
     "data": {
      "image/png": "[encoded data removed]",
      "text/plain": [
       "<Figure size 576x576 with 1 Axes>"
      ]
     },
     "metadata": {
      "needs_background": "light"
     },
     "output_type": "display_data"
    }
   ],
   "source": [
    "plt.figure(figsize = (8,8))\n",
    "sns.barplot(trial['Win'], trial['Adjo'], color = 'blue')\n",
    "plt.title(\"Offensive Efficiency for Win or Loss\")\n",
    "plt.xlabel(\"Win/Loss\")\n",
    "plt.ylabel(\"Offensive Efficiency\")\n",
    "plt.ylim(100, 117.5)\n",
    "plt.xticks([0, 1], ['Loss', 'Win'])\n",
    "plt.show()"
   ]
  },
  {
   "cell_type": "code",
   "execution_count": 725,
   "metadata": {},
   "outputs": [
    {
     "data": {
      "image/png": "[encoded data removed]",
      "text/plain": [
       "<Figure size 576x576 with 1 Axes>"
      ]
     },
     "metadata": {
      "needs_background": "light"
     },
     "output_type": "display_data"
    }
   ],
   "source": [
    "plt.figure(figsize = (8,8))\n",
    "sns.barplot(trial['Win'], trial['Adjd'], color = 'blue')\n",
    "plt.title(\"Defensive Efficiency for Win or Loss\")\n",
    "plt.xlabel(\"Win/Loss\")\n",
    "plt.ylabel(\"Defensive Efficiency\")\n",
    "plt.ylim(80, 100)\n",
    "plt.xticks([0, 1], ['Loss', 'Win'])\n",
    "plt.show()"
   ]
  },
  {
   "cell_type": "code",
   "execution_count": null,
   "metadata": {},
   "outputs": [],
   "source": []
  }
 ],
 "metadata": {
  "kernelspec": {
   "display_name": "Python [conda env:learn-env] *",
   "language": "python",
   "name": "conda-env-learn-env-py"
  },
  "language_info": {
   "codemirror_mode": {
    "name": "ipython",
    "version": 3
   },
   "file_extension": ".py",
   "mimetype": "text/x-python",
   "name": "python",
   "nbconvert_exporter": "python",
   "pygments_lexer": "ipython3",
   "version": "3.6.9"
  }
 },
 "nbformat": 4,
 "nbformat_minor": 2
}
