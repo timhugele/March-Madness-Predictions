{
 "cells": [
  {
   "cell_type": "markdown",
   "metadata": {},
   "source": [
    "# Predicting March Madness"
   ]
  },
  {
   "cell_type": "markdown",
   "metadata": {},
   "source": [
    "### Import Necessary Libraries"
   ]
  },
  {
   "cell_type": "code",
   "execution_count": 302,
   "metadata": {},
   "outputs": [],
   "source": [
    "import numpy as np\n",
    "import pandas as pd\n",
    "\n",
    "import matplotlib.pyplot as plt\n",
    "import seaborn as sns\n",
    "%matplotlib inline\n",
    "\n",
    "from collections import Counter\n",
    "\n",
    "from sklearn.preprocessing import StandardScaler\n",
    "from sklearn.ensemble import RandomForestClassifier\n",
    "from sklearn.linear_model import LogisticRegression\n",
    "from sklearn.model_selection import GridSearchCV, cross_val_score, StratifiedKFold, learning_curve, train_test_split\n",
    "from sklearn.metrics import brier_score_loss\n",
    "\n",
    "import xgboost as xgb\n",
    "from xgboost import XGBClassifier"
   ]
  },
  {
   "cell_type": "code",
   "execution_count": 249,
   "metadata": {},
   "outputs": [
    {
     "name": "stdout",
     "output_type": "stream",
     "text": [
      "Requirement already satisfied: BracketMaker in /Users/timothyphugele/.pyenv/versions/anaconda3-2019.10/envs/learn-env/lib/python3.6/site-packages (0.3.0)\r\n"
     ]
    }
   ],
   "source": [
    "!pip install BracketMaker"
   ]
  },
  {
   "cell_type": "markdown",
   "metadata": {},
   "source": [
    "### Read in Data"
   ]
  },
  {
   "cell_type": "code",
   "execution_count": 716,
   "metadata": {},
   "outputs": [],
   "source": [
    "all_games_df = pd.read_csv('Data/all_games_df.csv')"
   ]
  },
  {
   "cell_type": "code",
   "execution_count": 251,
   "metadata": {
    "scrolled": true
   },
   "outputs": [
    {
     "data": {
      "text/html": [
       "<div>\n",
       "<style scoped>\n",
       "    .dataframe tbody tr th:only-of-type {\n",
       "        vertical-align: middle;\n",
       "    }\n",
       "\n",
       "    .dataframe tbody tr th {\n",
       "        vertical-align: top;\n",
       "    }\n",
       "\n",
       "    .dataframe thead th {\n",
       "        text-align: right;\n",
       "    }\n",
       "</style>\n",
       "<table border=\"1\" class=\"dataframe\">\n",
       "  <thead>\n",
       "    <tr style=\"text-align: right;\">\n",
       "      <th></th>\n",
       "      <th>Season</th>\n",
       "      <th>date</th>\n",
       "      <th>is_tourney</th>\n",
       "      <th>home</th>\n",
       "      <th>HTeamID</th>\n",
       "      <th>hscore</th>\n",
       "      <th>road</th>\n",
       "      <th>RTeamID</th>\n",
       "      <th>rscore</th>\n",
       "      <th>line</th>\n",
       "      <th>...</th>\n",
       "      <th>RFG3</th>\n",
       "      <th>RFG3opponent</th>\n",
       "      <th>RFT</th>\n",
       "      <th>Rwins</th>\n",
       "      <th>Rwins_top25</th>\n",
       "      <th>Rwins_top5</th>\n",
       "      <th>Htourny20plus</th>\n",
       "      <th>Rtourny20plus</th>\n",
       "      <th>HBig4Conf</th>\n",
       "      <th>RBig4Conf</th>\n",
       "    </tr>\n",
       "  </thead>\n",
       "  <tbody>\n",
       "    <tr>\n",
       "      <td>0</td>\n",
       "      <td>2004</td>\n",
       "      <td>11/24/2003</td>\n",
       "      <td>0.0</td>\n",
       "      <td>arizona st.</td>\n",
       "      <td>1113.0</td>\n",
       "      <td>83.0</td>\n",
       "      <td>cal st. fullerton</td>\n",
       "      <td>1168.0</td>\n",
       "      <td>76.0</td>\n",
       "      <td>19.0</td>\n",
       "      <td>...</td>\n",
       "      <td>0.362272</td>\n",
       "      <td>0.387864</td>\n",
       "      <td>0.689468</td>\n",
       "      <td>10</td>\n",
       "      <td>0</td>\n",
       "      <td>0</td>\n",
       "      <td>0</td>\n",
       "      <td>0</td>\n",
       "      <td>0</td>\n",
       "      <td>0</td>\n",
       "    </tr>\n",
       "    <tr>\n",
       "      <td>1</td>\n",
       "      <td>2004</td>\n",
       "      <td>12/01/2003</td>\n",
       "      <td>0.0</td>\n",
       "      <td>pepperdine</td>\n",
       "      <td>1337.0</td>\n",
       "      <td>74.0</td>\n",
       "      <td>cal st. fullerton</td>\n",
       "      <td>1168.0</td>\n",
       "      <td>78.0</td>\n",
       "      <td>17.0</td>\n",
       "      <td>...</td>\n",
       "      <td>0.362272</td>\n",
       "      <td>0.387864</td>\n",
       "      <td>0.689468</td>\n",
       "      <td>10</td>\n",
       "      <td>0</td>\n",
       "      <td>0</td>\n",
       "      <td>0</td>\n",
       "      <td>0</td>\n",
       "      <td>0</td>\n",
       "      <td>0</td>\n",
       "    </tr>\n",
       "    <tr>\n",
       "      <td>2</td>\n",
       "      <td>2004</td>\n",
       "      <td>01/17/2004</td>\n",
       "      <td>0.0</td>\n",
       "      <td>uc irvine</td>\n",
       "      <td>1414.0</td>\n",
       "      <td>74.0</td>\n",
       "      <td>cal st. fullerton</td>\n",
       "      <td>1168.0</td>\n",
       "      <td>67.0</td>\n",
       "      <td>7.0</td>\n",
       "      <td>...</td>\n",
       "      <td>0.362272</td>\n",
       "      <td>0.387864</td>\n",
       "      <td>0.689468</td>\n",
       "      <td>10</td>\n",
       "      <td>0</td>\n",
       "      <td>0</td>\n",
       "      <td>0</td>\n",
       "      <td>0</td>\n",
       "      <td>0</td>\n",
       "      <td>0</td>\n",
       "    </tr>\n",
       "    <tr>\n",
       "      <td>3</td>\n",
       "      <td>2004</td>\n",
       "      <td>01/29/2004</td>\n",
       "      <td>0.0</td>\n",
       "      <td>cal poly slo</td>\n",
       "      <td>1142.0</td>\n",
       "      <td>80.0</td>\n",
       "      <td>cal st. fullerton</td>\n",
       "      <td>1168.0</td>\n",
       "      <td>71.0</td>\n",
       "      <td>5.5</td>\n",
       "      <td>...</td>\n",
       "      <td>0.362272</td>\n",
       "      <td>0.387864</td>\n",
       "      <td>0.689468</td>\n",
       "      <td>10</td>\n",
       "      <td>0</td>\n",
       "      <td>0</td>\n",
       "      <td>0</td>\n",
       "      <td>0</td>\n",
       "      <td>0</td>\n",
       "      <td>0</td>\n",
       "    </tr>\n",
       "    <tr>\n",
       "      <td>4</td>\n",
       "      <td>2004</td>\n",
       "      <td>02/21/2004</td>\n",
       "      <td>0.0</td>\n",
       "      <td>utah st.</td>\n",
       "      <td>1429.0</td>\n",
       "      <td>87.0</td>\n",
       "      <td>cal st. fullerton</td>\n",
       "      <td>1168.0</td>\n",
       "      <td>61.0</td>\n",
       "      <td>17.0</td>\n",
       "      <td>...</td>\n",
       "      <td>0.362272</td>\n",
       "      <td>0.387864</td>\n",
       "      <td>0.689468</td>\n",
       "      <td>10</td>\n",
       "      <td>0</td>\n",
       "      <td>0</td>\n",
       "      <td>0</td>\n",
       "      <td>0</td>\n",
       "      <td>0</td>\n",
       "      <td>0</td>\n",
       "    </tr>\n",
       "  </tbody>\n",
       "</table>\n",
       "<p>5 rows × 54 columns</p>\n",
       "</div>"
      ],
      "text/plain": [
       "   Season        date  is_tourney          home  HTeamID  hscore  \\\n",
       "0    2004  11/24/2003         0.0   arizona st.   1113.0    83.0   \n",
       "1    2004  12/01/2003         0.0    pepperdine   1337.0    74.0   \n",
       "2    2004  01/17/2004         0.0     uc irvine   1414.0    74.0   \n",
       "3    2004  01/29/2004         0.0  cal poly slo   1142.0    80.0   \n",
       "4    2004  02/21/2004         0.0      utah st.   1429.0    87.0   \n",
       "\n",
       "                road  RTeamID  rscore  line  ...      RFG3  RFG3opponent  \\\n",
       "0  cal st. fullerton   1168.0    76.0  19.0  ...  0.362272      0.387864   \n",
       "1  cal st. fullerton   1168.0    78.0  17.0  ...  0.362272      0.387864   \n",
       "2  cal st. fullerton   1168.0    67.0   7.0  ...  0.362272      0.387864   \n",
       "3  cal st. fullerton   1168.0    71.0   5.5  ...  0.362272      0.387864   \n",
       "4  cal st. fullerton   1168.0    61.0  17.0  ...  0.362272      0.387864   \n",
       "\n",
       "        RFT  Rwins Rwins_top25  Rwins_top5  Htourny20plus  Rtourny20plus  \\\n",
       "0  0.689468     10           0           0              0              0   \n",
       "1  0.689468     10           0           0              0              0   \n",
       "2  0.689468     10           0           0              0              0   \n",
       "3  0.689468     10           0           0              0              0   \n",
       "4  0.689468     10           0           0              0              0   \n",
       "\n",
       "   HBig4Conf RBig4Conf  \n",
       "0          0         0  \n",
       "1          0         0  \n",
       "2          0         0  \n",
       "3          0         0  \n",
       "4          0         0  \n",
       "\n",
       "[5 rows x 54 columns]"
      ]
     },
     "execution_count": 251,
     "metadata": {},
     "output_type": "execute_result"
    }
   ],
   "source": [
    "all_games_df.head()"
   ]
  },
  {
   "cell_type": "code",
   "execution_count": 252,
   "metadata": {},
   "outputs": [
    {
     "name": "stdout",
     "output_type": "stream",
     "text": [
      "<class 'pandas.core.frame.DataFrame'>\n",
      "RangeIndex: 49062 entries, 0 to 49061\n",
      "Data columns (total 54 columns):\n",
      "Season            49062 non-null int64\n",
      "date              49062 non-null object\n",
      "is_tourney        49062 non-null float64\n",
      "home              49062 non-null object\n",
      "HTeamID           49062 non-null float64\n",
      "hscore            49062 non-null float64\n",
      "road              49062 non-null object\n",
      "RTeamID           49062 non-null float64\n",
      "rscore            49062 non-null float64\n",
      "line              49062 non-null float64\n",
      "lineavg           49062 non-null float64\n",
      "Hwin              49062 non-null int64\n",
      "HSeed             49062 non-null float64\n",
      "RSeed             49062 non-null float64\n",
      "Hconf             49062 non-null object\n",
      "Hadjem            49062 non-null float64\n",
      "Hadjo             49062 non-null float64\n",
      "Hadjd             49062 non-null float64\n",
      "Hluck             49062 non-null float64\n",
      "Rconf             49062 non-null object\n",
      "Radjem            49062 non-null float64\n",
      "Radjo             49062 non-null float64\n",
      "Radjd             49062 non-null float64\n",
      "Rluck             49062 non-null float64\n",
      "HRankPOM          49062 non-null int64\n",
      "RRankPOM          49062 non-null int64\n",
      "HScore            49062 non-null float64\n",
      "HOpponentScore    49062 non-null float64\n",
      "HTOmargin         49062 non-null float64\n",
      "HPointMargin      49062 non-null float64\n",
      "HFG               49062 non-null float64\n",
      "HFGopponent       49062 non-null float64\n",
      "HFG3              49062 non-null float64\n",
      "HFG3opponent      49062 non-null float64\n",
      "HFT               49062 non-null float64\n",
      "Hwins             49062 non-null int64\n",
      "Hwins_top25       49062 non-null int64\n",
      "Hwins_top5        49062 non-null int64\n",
      "RScore            49062 non-null float64\n",
      "ROpponentScore    49062 non-null float64\n",
      "RTOmargin         49062 non-null float64\n",
      "RPointMargin      49062 non-null float64\n",
      "RFG               49062 non-null float64\n",
      "RFGopponent       49062 non-null float64\n",
      "RFG3              49062 non-null float64\n",
      "RFG3opponent      49062 non-null float64\n",
      "RFT               49062 non-null float64\n",
      "Rwins             49062 non-null int64\n",
      "Rwins_top25       49062 non-null int64\n",
      "Rwins_top5        49062 non-null int64\n",
      "Htourny20plus     49062 non-null int64\n",
      "Rtourny20plus     49062 non-null int64\n",
      "HBig4Conf         49062 non-null int64\n",
      "RBig4Conf         49062 non-null int64\n",
      "dtypes: float64(35), int64(14), object(5)\n",
      "memory usage: 20.2+ MB\n"
     ]
    }
   ],
   "source": [
    "all_games_df.info()"
   ]
  },
  {
   "cell_type": "code",
   "execution_count": 661,
   "metadata": {},
   "outputs": [],
   "source": [
    "tourney_games_df = all_games_df[all_games_df['is_tourney'] == 1]"
   ]
  },
  {
   "cell_type": "code",
   "execution_count": 477,
   "metadata": {},
   "outputs": [
    {
     "data": {
      "text/plain": [
       "Index(['Season', 'date', 'is_tourney', 'home', 'HTeamID', 'hscore', 'road',\n",
       "       'RTeamID', 'rscore', 'line', 'lineavg', 'Hwin', 'HSeed', 'RSeed',\n",
       "       'Hconf', 'Hadjem', 'Hadjo', 'Hadjd', 'Hluck', 'Rconf', 'Radjem',\n",
       "       'Radjo', 'Radjd', 'Rluck', 'HRankPOM', 'RRankPOM', 'HScore',\n",
       "       'HOpponentScore', 'HTOmargin', 'HPointMargin', 'HFG', 'HFGopponent',\n",
       "       'HFG3', 'HFG3opponent', 'HFT', 'Hwins', 'Hwins_top25', 'Hwins_top5',\n",
       "       'RScore', 'ROpponentScore', 'RTOmargin', 'RPointMargin', 'RFG',\n",
       "       'RFGopponent', 'RFG3', 'RFG3opponent', 'RFT', 'Rwins', 'Rwins_top25',\n",
       "       'Rwins_top5', 'Htourny20plus', 'Rtourny20plus', 'HBig4Conf',\n",
       "       'RBig4Conf'],\n",
       "      dtype='object')"
      ]
     },
     "execution_count": 477,
     "metadata": {},
     "output_type": "execute_result"
    }
   ],
   "source": [
    "tourney_games_df.columns"
   ]
  },
  {
   "cell_type": "code",
   "execution_count": 485,
   "metadata": {},
   "outputs": [],
   "source": [
    "non_tourney_games_df = all_games_df[all_games_df['is_tourney'] == 0]"
   ]
  },
  {
   "cell_type": "code",
   "execution_count": 717,
   "metadata": {},
   "outputs": [],
   "source": [
    "test_combos_df = pd.read_csv('Data/test_combos_df_19.csv')\n",
    "test_combos_df = test_combos_df.sort_values(by=['ID']).reset_index(drop=True)"
   ]
  },
  {
   "cell_type": "markdown",
   "metadata": {},
   "source": [
    "### Selected Features to Model"
   ]
  },
  {
   "cell_type": "code",
   "execution_count": 254,
   "metadata": {},
   "outputs": [],
   "source": [
    "ind_var_selected = [\n",
    "'is_tourney', \n",
    "'HRankPOM',\n",
    "'RRankPOM',\n",
    "'line', \n",
    "'HTeamID', \n",
    "'RTeamID',\n",
    "'Hwins_top25',\n",
    "'Rwins_top25',\n",
    "'HPointMargin',\n",
    "'RPointMargin',\n",
    "'HFG',\n",
    "'RFG',\n",
    "'HFG3',\n",
    "'RFG3',\n",
    "'Hadjem',\n",
    "'Hadjo',\n",
    "'Hadjd',\n",
    "'Hluck',\n",
    "'Radjem',\n",
    "'Radjo',\n",
    "'Radjd',\n",
    "'Rluck',\n",
    "'Htourny20plus',\n",
    "'Rtourny20plus',\n",
    "'HBig4Conf',\n",
    "'RBig4Conf', \n",
    "'HSeed',\n",
    "'RSeed'\n",
    "]"
   ]
  },
  {
   "cell_type": "code",
   "execution_count": 255,
   "metadata": {},
   "outputs": [],
   "source": [
    "test_ids = test_combos_df['ID'].reset_index(drop=True)\n",
    "X_test = test_combos_df[['is_tourney','HRankPOM','RRankPOM', 'HTeamID', 'RTeamID', 'Hwins_top25','Rwins_top25', \n",
    "                         'HPointMargin','RPointMargin','HFG','RFG','HFG3','RFG3','Hadjem','Hadjo', \n",
    "                         'Hadjd','Hluck','Radjem','Radjo','Radjd','Rluck','Htourny20plus', \n",
    "                         'Rtourny20plus','HBig4Conf','RBig4Conf','HSeed','RSeed']].reset_index(drop=True)"
   ]
  },
  {
   "cell_type": "markdown",
   "metadata": {},
   "source": [
    "Here I am going to hold out two years of tournament data to test the model on. I will train the model on all of the data prior to 2017."
   ]
  },
  {
   "cell_type": "code",
   "execution_count": 256,
   "metadata": {},
   "outputs": [],
   "source": [
    "#Predict the last two years as a test set (2017, 2018):\n",
    "temp_df = all_games_df[all_games_df['Season']>2016]\n",
    "temp_df = temp_df[temp_df['is_tourney']==1]\n",
    "X_valid = temp_df[ind_var_selected].reset_index(drop=True)\n",
    "y_valid = temp_df['Hwin'].reset_index(drop=True)\n",
    "\n",
    "#Train on everything else:\n",
    "temp_df1 = all_games_df[all_games_df['Season']>2016]\n",
    "temp_df1 = temp_df1[temp_df1['is_tourney']==0]\n",
    "temp_df2 = all_games_df[all_games_df['Season']<2017]\n",
    "combined_temp_df = temp_df1.append(temp_df2)\n",
    "\n",
    "X_train = combined_temp_df[ind_var_selected].reset_index(drop=True)\n",
    "y_train = combined_temp_df['Hwin'].reset_index(drop=True)\n",
    "\n",
    "#For final predictions:\n",
    "X_train_orig = all_games_df[ind_var_selected].reset_index(drop=True)\n",
    "y_train_orig = all_games_df['Hwin'].reset_index(drop=True)"
   ]
  },
  {
   "cell_type": "code",
   "execution_count": 712,
   "metadata": {},
   "outputs": [
    {
     "data": {
      "text/plain": [
       "(63, 28)"
      ]
     },
     "execution_count": 712,
     "metadata": {},
     "output_type": "execute_result"
    }
   ],
   "source": [
    "X_valid16.shape"
   ]
  },
  {
   "cell_type": "code",
   "execution_count": 711,
   "metadata": {},
   "outputs": [
    {
     "data": {
      "text/plain": [
       "(49062, 27)"
      ]
     },
     "execution_count": 711,
     "metadata": {},
     "output_type": "execute_result"
    }
   ],
   "source": [
    "X_train_orig.shape"
   ]
  },
  {
   "cell_type": "code",
   "execution_count": 257,
   "metadata": {},
   "outputs": [
    {
     "name": "stdout",
     "output_type": "stream",
     "text": [
      "<class 'pandas.core.frame.DataFrame'>\n",
      "RangeIndex: 134 entries, 0 to 133\n",
      "Data columns (total 28 columns):\n",
      "is_tourney       134 non-null float64\n",
      "HRankPOM         134 non-null int64\n",
      "RRankPOM         134 non-null int64\n",
      "line             134 non-null float64\n",
      "HTeamID          134 non-null float64\n",
      "RTeamID          134 non-null float64\n",
      "Hwins_top25      134 non-null int64\n",
      "Rwins_top25      134 non-null int64\n",
      "HPointMargin     134 non-null float64\n",
      "RPointMargin     134 non-null float64\n",
      "HFG              134 non-null float64\n",
      "RFG              134 non-null float64\n",
      "HFG3             134 non-null float64\n",
      "RFG3             134 non-null float64\n",
      "Hadjem           134 non-null float64\n",
      "Hadjo            134 non-null float64\n",
      "Hadjd            134 non-null float64\n",
      "Hluck            134 non-null float64\n",
      "Radjem           134 non-null float64\n",
      "Radjo            134 non-null float64\n",
      "Radjd            134 non-null float64\n",
      "Rluck            134 non-null float64\n",
      "Htourny20plus    134 non-null int64\n",
      "Rtourny20plus    134 non-null int64\n",
      "HBig4Conf        134 non-null int64\n",
      "RBig4Conf        134 non-null int64\n",
      "HSeed            134 non-null float64\n",
      "RSeed            134 non-null float64\n",
      "dtypes: float64(20), int64(8)\n",
      "memory usage: 29.4 KB\n"
     ]
    }
   ],
   "source": [
    "X_valid.info()"
   ]
  },
  {
   "cell_type": "code",
   "execution_count": 258,
   "metadata": {},
   "outputs": [],
   "source": [
    "#Create second holdout set to double-check not overfit and check model stability (season 2016)\n",
    "temp_df16 = all_games_df[all_games_df['Season']==2016]\n",
    "temp_df16 = temp_df16[temp_df16['is_tourney']==1]\n",
    "X_valid16 = temp_df16[ind_var_selected].reset_index(drop=True)\n",
    "y_valid16 = temp_df16['Hwin'].reset_index(drop=True)\n",
    "\n",
    "temp_df1_16 = all_games_df[all_games_df['Season']==2016]\n",
    "temp_df1_16 = temp_df1_16[temp_df1_16['is_tourney']==0]\n",
    "temp_df2_16 = all_games_df[all_games_df['Season']!=2016]\n",
    "combined_temp_df_16 = temp_df1_16.append(temp_df2_16)\n",
    "\n",
    "X_train16 = combined_temp_df_16[ind_var_selected].reset_index(drop=True)\n",
    "y_train16 = combined_temp_df_16['Hwin'].reset_index(drop=True)"
   ]
  },
  {
   "cell_type": "markdown",
   "metadata": {},
   "source": [
    "### Make all selected features floats"
   ]
  },
  {
   "cell_type": "code",
   "execution_count": 259,
   "metadata": {},
   "outputs": [],
   "source": [
    "X_test = X_test.astype(\"float64\")\n",
    "\n",
    "X_train_orig = X_train_orig.astype(\"float64\")\n",
    "y_train_orig = y_train_orig.astype(\"float64\")\n",
    "\n",
    "X_train = X_train.astype(\"float64\")\n",
    "X_valid = X_valid.astype(\"float64\")\n",
    "y_train = y_train.astype(\"float64\")\n",
    "y_valid = y_valid.astype(\"float64\")\n",
    "\n",
    "X_train16 = X_train16.astype(\"float64\")\n",
    "X_valid16 = X_valid16.astype(\"float64\")\n",
    "y_train16 = y_train16.astype(\"float64\")\n",
    "y_valid16 = y_valid16.astype(\"float64\")"
   ]
  },
  {
   "cell_type": "markdown",
   "metadata": {},
   "source": [
    "### Create a Function to Calculate LogLoss"
   ]
  },
  {
   "cell_type": "code",
   "execution_count": 260,
   "metadata": {},
   "outputs": [],
   "source": [
    "def LogLoss(predictions, realizations):\n",
    "    predictions_use = predictions.clip(0)\n",
    "    realizations_use = realizations.clip(0)\n",
    "    LogLoss = -np.mean( (realizations_use * np.log(predictions_use)) + \n",
    "                        (1 - realizations_use) * np.log(1 - predictions_use) )\n",
    "    return LogLoss"
   ]
  },
  {
   "cell_type": "markdown",
   "metadata": {},
   "source": [
    "### Create a Benchmark to try and beat with my Model"
   ]
  },
  {
   "cell_type": "code",
   "execution_count": 261,
   "metadata": {},
   "outputs": [],
   "source": [
    "bench_5050 = np.repeat(0.5, len(y_valid))"
   ]
  },
  {
   "cell_type": "markdown",
   "metadata": {},
   "source": [
    "This benchmark finds the LogLoss if the model gives each game a 50/50 probability."
   ]
  },
  {
   "cell_type": "code",
   "execution_count": 262,
   "metadata": {},
   "outputs": [
    {
     "data": {
      "text/plain": [
       "0.6931471805599454"
      ]
     },
     "execution_count": 262,
     "metadata": {},
     "output_type": "execute_result"
    }
   ],
   "source": [
    "LogLoss(bench_5050, y_valid)"
   ]
  },
  {
   "cell_type": "markdown",
   "metadata": {},
   "source": [
    "### LogReg Model"
   ]
  },
  {
   "cell_type": "markdown",
   "metadata": {},
   "source": [
    "This model tries to predict the winners based on the betting markets alone."
   ]
  },
  {
   "cell_type": "code",
   "execution_count": 311,
   "metadata": {
    "scrolled": true
   },
   "outputs": [
    {
     "data": {
      "text/html": [
       "<div>\n",
       "<style scoped>\n",
       "    .dataframe tbody tr th:only-of-type {\n",
       "        vertical-align: middle;\n",
       "    }\n",
       "\n",
       "    .dataframe tbody tr th {\n",
       "        vertical-align: top;\n",
       "    }\n",
       "\n",
       "    .dataframe thead th {\n",
       "        text-align: right;\n",
       "    }\n",
       "</style>\n",
       "<table border=\"1\" class=\"dataframe\">\n",
       "  <thead>\n",
       "    <tr style=\"text-align: right;\">\n",
       "      <th></th>\n",
       "      <th>is_tourney</th>\n",
       "      <th>HRankPOM</th>\n",
       "      <th>RRankPOM</th>\n",
       "      <th>HTeamID</th>\n",
       "      <th>RTeamID</th>\n",
       "      <th>Hwins_top25</th>\n",
       "      <th>Rwins_top25</th>\n",
       "      <th>HPointMargin</th>\n",
       "      <th>RPointMargin</th>\n",
       "      <th>HFG</th>\n",
       "      <th>...</th>\n",
       "      <th>Radjem</th>\n",
       "      <th>Radjo</th>\n",
       "      <th>Radjd</th>\n",
       "      <th>Rluck</th>\n",
       "      <th>Htourny20plus</th>\n",
       "      <th>Rtourny20plus</th>\n",
       "      <th>HBig4Conf</th>\n",
       "      <th>RBig4Conf</th>\n",
       "      <th>HSeed</th>\n",
       "      <th>RSeed</th>\n",
       "    </tr>\n",
       "  </thead>\n",
       "  <tbody>\n",
       "    <tr>\n",
       "      <td>0</td>\n",
       "      <td>1.0</td>\n",
       "      <td>62.0</td>\n",
       "      <td>151.0</td>\n",
       "      <td>1113.0</td>\n",
       "      <td>1101.0</td>\n",
       "      <td>NaN</td>\n",
       "      <td>NaN</td>\n",
       "      <td>NaN</td>\n",
       "      <td>NaN</td>\n",
       "      <td>NaN</td>\n",
       "      <td>...</td>\n",
       "      <td>2.09</td>\n",
       "      <td>103.6</td>\n",
       "      <td>101.5</td>\n",
       "      <td>0.087</td>\n",
       "      <td>0.0</td>\n",
       "      <td>0.0</td>\n",
       "      <td>0.0</td>\n",
       "      <td>0.0</td>\n",
       "      <td>11.0</td>\n",
       "      <td>15.0</td>\n",
       "    </tr>\n",
       "    <tr>\n",
       "      <td>1</td>\n",
       "      <td>1.0</td>\n",
       "      <td>14.0</td>\n",
       "      <td>151.0</td>\n",
       "      <td>1120.0</td>\n",
       "      <td>1101.0</td>\n",
       "      <td>NaN</td>\n",
       "      <td>NaN</td>\n",
       "      <td>NaN</td>\n",
       "      <td>NaN</td>\n",
       "      <td>NaN</td>\n",
       "      <td>...</td>\n",
       "      <td>2.09</td>\n",
       "      <td>103.6</td>\n",
       "      <td>101.5</td>\n",
       "      <td>0.087</td>\n",
       "      <td>0.0</td>\n",
       "      <td>0.0</td>\n",
       "      <td>1.0</td>\n",
       "      <td>0.0</td>\n",
       "      <td>5.0</td>\n",
       "      <td>15.0</td>\n",
       "    </tr>\n",
       "    <tr>\n",
       "      <td>2</td>\n",
       "      <td>1.0</td>\n",
       "      <td>35.0</td>\n",
       "      <td>151.0</td>\n",
       "      <td>1124.0</td>\n",
       "      <td>1101.0</td>\n",
       "      <td>NaN</td>\n",
       "      <td>NaN</td>\n",
       "      <td>NaN</td>\n",
       "      <td>NaN</td>\n",
       "      <td>NaN</td>\n",
       "      <td>...</td>\n",
       "      <td>2.09</td>\n",
       "      <td>103.6</td>\n",
       "      <td>101.5</td>\n",
       "      <td>0.087</td>\n",
       "      <td>0.0</td>\n",
       "      <td>0.0</td>\n",
       "      <td>1.0</td>\n",
       "      <td>0.0</td>\n",
       "      <td>9.0</td>\n",
       "      <td>15.0</td>\n",
       "    </tr>\n",
       "    <tr>\n",
       "      <td>3</td>\n",
       "      <td>1.0</td>\n",
       "      <td>53.0</td>\n",
       "      <td>151.0</td>\n",
       "      <td>1125.0</td>\n",
       "      <td>1101.0</td>\n",
       "      <td>NaN</td>\n",
       "      <td>NaN</td>\n",
       "      <td>NaN</td>\n",
       "      <td>NaN</td>\n",
       "      <td>NaN</td>\n",
       "      <td>...</td>\n",
       "      <td>2.09</td>\n",
       "      <td>103.6</td>\n",
       "      <td>101.5</td>\n",
       "      <td>0.087</td>\n",
       "      <td>0.0</td>\n",
       "      <td>0.0</td>\n",
       "      <td>0.0</td>\n",
       "      <td>0.0</td>\n",
       "      <td>11.0</td>\n",
       "      <td>15.0</td>\n",
       "    </tr>\n",
       "    <tr>\n",
       "      <td>4</td>\n",
       "      <td>1.0</td>\n",
       "      <td>151.0</td>\n",
       "      <td>167.0</td>\n",
       "      <td>1101.0</td>\n",
       "      <td>1133.0</td>\n",
       "      <td>NaN</td>\n",
       "      <td>NaN</td>\n",
       "      <td>NaN</td>\n",
       "      <td>NaN</td>\n",
       "      <td>NaN</td>\n",
       "      <td>...</td>\n",
       "      <td>-0.36</td>\n",
       "      <td>100.9</td>\n",
       "      <td>101.2</td>\n",
       "      <td>0.040</td>\n",
       "      <td>0.0</td>\n",
       "      <td>0.0</td>\n",
       "      <td>0.0</td>\n",
       "      <td>0.0</td>\n",
       "      <td>15.0</td>\n",
       "      <td>15.0</td>\n",
       "    </tr>\n",
       "    <tr>\n",
       "      <td>...</td>\n",
       "      <td>...</td>\n",
       "      <td>...</td>\n",
       "      <td>...</td>\n",
       "      <td>...</td>\n",
       "      <td>...</td>\n",
       "      <td>...</td>\n",
       "      <td>...</td>\n",
       "      <td>...</td>\n",
       "      <td>...</td>\n",
       "      <td>...</td>\n",
       "      <td>...</td>\n",
       "      <td>...</td>\n",
       "      <td>...</td>\n",
       "      <td>...</td>\n",
       "      <td>...</td>\n",
       "      <td>...</td>\n",
       "      <td>...</td>\n",
       "      <td>...</td>\n",
       "      <td>...</td>\n",
       "      <td>...</td>\n",
       "      <td>...</td>\n",
       "    </tr>\n",
       "    <tr>\n",
       "      <td>2273</td>\n",
       "      <td>1.0</td>\n",
       "      <td>20.0</td>\n",
       "      <td>47.0</td>\n",
       "      <td>1459.0</td>\n",
       "      <td>1449.0</td>\n",
       "      <td>NaN</td>\n",
       "      <td>NaN</td>\n",
       "      <td>NaN</td>\n",
       "      <td>NaN</td>\n",
       "      <td>NaN</td>\n",
       "      <td>...</td>\n",
       "      <td>13.37</td>\n",
       "      <td>107.0</td>\n",
       "      <td>93.6</td>\n",
       "      <td>0.078</td>\n",
       "      <td>0.0</td>\n",
       "      <td>0.0</td>\n",
       "      <td>0.0</td>\n",
       "      <td>0.0</td>\n",
       "      <td>7.0</td>\n",
       "      <td>9.0</td>\n",
       "    </tr>\n",
       "    <tr>\n",
       "      <td>2274</td>\n",
       "      <td>1.0</td>\n",
       "      <td>47.0</td>\n",
       "      <td>83.0</td>\n",
       "      <td>1449.0</td>\n",
       "      <td>1463.0</td>\n",
       "      <td>NaN</td>\n",
       "      <td>NaN</td>\n",
       "      <td>NaN</td>\n",
       "      <td>NaN</td>\n",
       "      <td>NaN</td>\n",
       "      <td>...</td>\n",
       "      <td>8.59</td>\n",
       "      <td>111.7</td>\n",
       "      <td>103.1</td>\n",
       "      <td>0.057</td>\n",
       "      <td>0.0</td>\n",
       "      <td>0.0</td>\n",
       "      <td>0.0</td>\n",
       "      <td>0.0</td>\n",
       "      <td>9.0</td>\n",
       "      <td>14.0</td>\n",
       "    </tr>\n",
       "    <tr>\n",
       "      <td>2275</td>\n",
       "      <td>1.0</td>\n",
       "      <td>12.0</td>\n",
       "      <td>20.0</td>\n",
       "      <td>1458.0</td>\n",
       "      <td>1459.0</td>\n",
       "      <td>NaN</td>\n",
       "      <td>NaN</td>\n",
       "      <td>NaN</td>\n",
       "      <td>NaN</td>\n",
       "      <td>NaN</td>\n",
       "      <td>...</td>\n",
       "      <td>20.71</td>\n",
       "      <td>118.4</td>\n",
       "      <td>97.6</td>\n",
       "      <td>0.060</td>\n",
       "      <td>1.0</td>\n",
       "      <td>0.0</td>\n",
       "      <td>1.0</td>\n",
       "      <td>0.0</td>\n",
       "      <td>5.0</td>\n",
       "      <td>7.0</td>\n",
       "    </tr>\n",
       "    <tr>\n",
       "      <td>2276</td>\n",
       "      <td>1.0</td>\n",
       "      <td>12.0</td>\n",
       "      <td>83.0</td>\n",
       "      <td>1458.0</td>\n",
       "      <td>1463.0</td>\n",
       "      <td>NaN</td>\n",
       "      <td>NaN</td>\n",
       "      <td>NaN</td>\n",
       "      <td>NaN</td>\n",
       "      <td>NaN</td>\n",
       "      <td>...</td>\n",
       "      <td>8.59</td>\n",
       "      <td>111.7</td>\n",
       "      <td>103.1</td>\n",
       "      <td>0.057</td>\n",
       "      <td>1.0</td>\n",
       "      <td>0.0</td>\n",
       "      <td>1.0</td>\n",
       "      <td>0.0</td>\n",
       "      <td>5.0</td>\n",
       "      <td>14.0</td>\n",
       "    </tr>\n",
       "    <tr>\n",
       "      <td>2277</td>\n",
       "      <td>1.0</td>\n",
       "      <td>20.0</td>\n",
       "      <td>83.0</td>\n",
       "      <td>1459.0</td>\n",
       "      <td>1463.0</td>\n",
       "      <td>NaN</td>\n",
       "      <td>NaN</td>\n",
       "      <td>NaN</td>\n",
       "      <td>NaN</td>\n",
       "      <td>NaN</td>\n",
       "      <td>...</td>\n",
       "      <td>8.59</td>\n",
       "      <td>111.7</td>\n",
       "      <td>103.1</td>\n",
       "      <td>0.057</td>\n",
       "      <td>0.0</td>\n",
       "      <td>0.0</td>\n",
       "      <td>0.0</td>\n",
       "      <td>0.0</td>\n",
       "      <td>7.0</td>\n",
       "      <td>14.0</td>\n",
       "    </tr>\n",
       "  </tbody>\n",
       "</table>\n",
       "<p>2278 rows × 27 columns</p>\n",
       "</div>"
      ],
      "text/plain": [
       "      is_tourney  HRankPOM  RRankPOM  HTeamID  RTeamID  Hwins_top25  \\\n",
       "0            1.0      62.0     151.0   1113.0   1101.0          NaN   \n",
       "1            1.0      14.0     151.0   1120.0   1101.0          NaN   \n",
       "2            1.0      35.0     151.0   1124.0   1101.0          NaN   \n",
       "3            1.0      53.0     151.0   1125.0   1101.0          NaN   \n",
       "4            1.0     151.0     167.0   1101.0   1133.0          NaN   \n",
       "...          ...       ...       ...      ...      ...          ...   \n",
       "2273         1.0      20.0      47.0   1459.0   1449.0          NaN   \n",
       "2274         1.0      47.0      83.0   1449.0   1463.0          NaN   \n",
       "2275         1.0      12.0      20.0   1458.0   1459.0          NaN   \n",
       "2276         1.0      12.0      83.0   1458.0   1463.0          NaN   \n",
       "2277         1.0      20.0      83.0   1459.0   1463.0          NaN   \n",
       "\n",
       "      Rwins_top25  HPointMargin  RPointMargin  HFG  ...  Radjem  Radjo  Radjd  \\\n",
       "0             NaN           NaN           NaN  NaN  ...    2.09  103.6  101.5   \n",
       "1             NaN           NaN           NaN  NaN  ...    2.09  103.6  101.5   \n",
       "2             NaN           NaN           NaN  NaN  ...    2.09  103.6  101.5   \n",
       "3             NaN           NaN           NaN  NaN  ...    2.09  103.6  101.5   \n",
       "4             NaN           NaN           NaN  NaN  ...   -0.36  100.9  101.2   \n",
       "...           ...           ...           ...  ...  ...     ...    ...    ...   \n",
       "2273          NaN           NaN           NaN  NaN  ...   13.37  107.0   93.6   \n",
       "2274          NaN           NaN           NaN  NaN  ...    8.59  111.7  103.1   \n",
       "2275          NaN           NaN           NaN  NaN  ...   20.71  118.4   97.6   \n",
       "2276          NaN           NaN           NaN  NaN  ...    8.59  111.7  103.1   \n",
       "2277          NaN           NaN           NaN  NaN  ...    8.59  111.7  103.1   \n",
       "\n",
       "      Rluck  Htourny20plus  Rtourny20plus  HBig4Conf  RBig4Conf  HSeed  RSeed  \n",
       "0     0.087            0.0            0.0        0.0        0.0   11.0   15.0  \n",
       "1     0.087            0.0            0.0        1.0        0.0    5.0   15.0  \n",
       "2     0.087            0.0            0.0        1.0        0.0    9.0   15.0  \n",
       "3     0.087            0.0            0.0        0.0        0.0   11.0   15.0  \n",
       "4     0.040            0.0            0.0        0.0        0.0   15.0   15.0  \n",
       "...     ...            ...            ...        ...        ...    ...    ...  \n",
       "2273  0.078            0.0            0.0        0.0        0.0    7.0    9.0  \n",
       "2274  0.057            0.0            0.0        0.0        0.0    9.0   14.0  \n",
       "2275  0.060            1.0            0.0        1.0        0.0    5.0    7.0  \n",
       "2276  0.057            1.0            0.0        1.0        0.0    5.0   14.0  \n",
       "2277  0.057            0.0            0.0        0.0        0.0    7.0   14.0  \n",
       "\n",
       "[2278 rows x 27 columns]"
      ]
     },
     "execution_count": 311,
     "metadata": {},
     "output_type": "execute_result"
    }
   ],
   "source": [
    "X_test"
   ]
  },
  {
   "cell_type": "code",
   "execution_count": 309,
   "metadata": {},
   "outputs": [
    {
     "data": {
      "text/html": [
       "<div>\n",
       "<style scoped>\n",
       "    .dataframe tbody tr th:only-of-type {\n",
       "        vertical-align: middle;\n",
       "    }\n",
       "\n",
       "    .dataframe tbody tr th {\n",
       "        vertical-align: top;\n",
       "    }\n",
       "\n",
       "    .dataframe thead th {\n",
       "        text-align: right;\n",
       "    }\n",
       "</style>\n",
       "<table border=\"1\" class=\"dataframe\">\n",
       "  <thead>\n",
       "    <tr style=\"text-align: right;\">\n",
       "      <th></th>\n",
       "      <th>is_tourney</th>\n",
       "      <th>HRankPOM</th>\n",
       "      <th>RRankPOM</th>\n",
       "      <th>line</th>\n",
       "      <th>HTeamID</th>\n",
       "      <th>RTeamID</th>\n",
       "      <th>Hwins_top25</th>\n",
       "      <th>Rwins_top25</th>\n",
       "      <th>HPointMargin</th>\n",
       "      <th>RPointMargin</th>\n",
       "      <th>...</th>\n",
       "      <th>Radjem</th>\n",
       "      <th>Radjo</th>\n",
       "      <th>Radjd</th>\n",
       "      <th>Rluck</th>\n",
       "      <th>Htourny20plus</th>\n",
       "      <th>Rtourny20plus</th>\n",
       "      <th>HBig4Conf</th>\n",
       "      <th>RBig4Conf</th>\n",
       "      <th>HSeed</th>\n",
       "      <th>RSeed</th>\n",
       "    </tr>\n",
       "  </thead>\n",
       "  <tbody>\n",
       "    <tr>\n",
       "      <td>0</td>\n",
       "      <td>0.0</td>\n",
       "      <td>54.0</td>\n",
       "      <td>200.0</td>\n",
       "      <td>12.5</td>\n",
       "      <td>1104.0</td>\n",
       "      <td>1157.0</td>\n",
       "      <td>0.0</td>\n",
       "      <td>0.0</td>\n",
       "      <td>4.151515</td>\n",
       "      <td>-2.870968</td>\n",
       "      <td>...</td>\n",
       "      <td>-3.56</td>\n",
       "      <td>101.8</td>\n",
       "      <td>105.4</td>\n",
       "      <td>0.050</td>\n",
       "      <td>0.0</td>\n",
       "      <td>0.0</td>\n",
       "      <td>1.0</td>\n",
       "      <td>0.0</td>\n",
       "      <td>7.253083</td>\n",
       "      <td>8.279952</td>\n",
       "    </tr>\n",
       "    <tr>\n",
       "      <td>1</td>\n",
       "      <td>0.0</td>\n",
       "      <td>83.0</td>\n",
       "      <td>200.0</td>\n",
       "      <td>11.5</td>\n",
       "      <td>1120.0</td>\n",
       "      <td>1157.0</td>\n",
       "      <td>0.0</td>\n",
       "      <td>0.0</td>\n",
       "      <td>0.843750</td>\n",
       "      <td>-2.870968</td>\n",
       "      <td>...</td>\n",
       "      <td>-3.56</td>\n",
       "      <td>101.8</td>\n",
       "      <td>105.4</td>\n",
       "      <td>0.050</td>\n",
       "      <td>0.0</td>\n",
       "      <td>0.0</td>\n",
       "      <td>1.0</td>\n",
       "      <td>0.0</td>\n",
       "      <td>7.253083</td>\n",
       "      <td>8.279952</td>\n",
       "    </tr>\n",
       "    <tr>\n",
       "      <td>2</td>\n",
       "      <td>0.0</td>\n",
       "      <td>74.0</td>\n",
       "      <td>200.0</td>\n",
       "      <td>18.0</td>\n",
       "      <td>1140.0</td>\n",
       "      <td>1157.0</td>\n",
       "      <td>1.0</td>\n",
       "      <td>0.0</td>\n",
       "      <td>7.030303</td>\n",
       "      <td>-2.870968</td>\n",
       "      <td>...</td>\n",
       "      <td>-3.56</td>\n",
       "      <td>101.8</td>\n",
       "      <td>105.4</td>\n",
       "      <td>0.050</td>\n",
       "      <td>0.0</td>\n",
       "      <td>0.0</td>\n",
       "      <td>0.0</td>\n",
       "      <td>0.0</td>\n",
       "      <td>7.253083</td>\n",
       "      <td>8.279952</td>\n",
       "    </tr>\n",
       "    <tr>\n",
       "      <td>3</td>\n",
       "      <td>0.0</td>\n",
       "      <td>171.0</td>\n",
       "      <td>200.0</td>\n",
       "      <td>3.5</td>\n",
       "      <td>1402.0</td>\n",
       "      <td>1157.0</td>\n",
       "      <td>0.0</td>\n",
       "      <td>0.0</td>\n",
       "      <td>1.806452</td>\n",
       "      <td>-2.870968</td>\n",
       "      <td>...</td>\n",
       "      <td>-3.56</td>\n",
       "      <td>101.8</td>\n",
       "      <td>105.4</td>\n",
       "      <td>0.050</td>\n",
       "      <td>0.0</td>\n",
       "      <td>0.0</td>\n",
       "      <td>0.0</td>\n",
       "      <td>0.0</td>\n",
       "      <td>7.253083</td>\n",
       "      <td>8.279952</td>\n",
       "    </tr>\n",
       "    <tr>\n",
       "      <td>4</td>\n",
       "      <td>0.0</td>\n",
       "      <td>130.0</td>\n",
       "      <td>200.0</td>\n",
       "      <td>6.5</td>\n",
       "      <td>1407.0</td>\n",
       "      <td>1157.0</td>\n",
       "      <td>0.0</td>\n",
       "      <td>0.0</td>\n",
       "      <td>3.617647</td>\n",
       "      <td>-2.870968</td>\n",
       "      <td>...</td>\n",
       "      <td>-3.56</td>\n",
       "      <td>101.8</td>\n",
       "      <td>105.4</td>\n",
       "      <td>0.050</td>\n",
       "      <td>0.0</td>\n",
       "      <td>0.0</td>\n",
       "      <td>0.0</td>\n",
       "      <td>0.0</td>\n",
       "      <td>15.000000</td>\n",
       "      <td>8.279952</td>\n",
       "    </tr>\n",
       "    <tr>\n",
       "      <td>...</td>\n",
       "      <td>...</td>\n",
       "      <td>...</td>\n",
       "      <td>...</td>\n",
       "      <td>...</td>\n",
       "      <td>...</td>\n",
       "      <td>...</td>\n",
       "      <td>...</td>\n",
       "      <td>...</td>\n",
       "      <td>...</td>\n",
       "      <td>...</td>\n",
       "      <td>...</td>\n",
       "      <td>...</td>\n",
       "      <td>...</td>\n",
       "      <td>...</td>\n",
       "      <td>...</td>\n",
       "      <td>...</td>\n",
       "      <td>...</td>\n",
       "      <td>...</td>\n",
       "      <td>...</td>\n",
       "      <td>...</td>\n",
       "      <td>...</td>\n",
       "    </tr>\n",
       "    <tr>\n",
       "      <td>48923</td>\n",
       "      <td>0.0</td>\n",
       "      <td>220.0</td>\n",
       "      <td>294.0</td>\n",
       "      <td>1.5</td>\n",
       "      <td>1205.0</td>\n",
       "      <td>1144.0</td>\n",
       "      <td>0.0</td>\n",
       "      <td>0.0</td>\n",
       "      <td>-2.966667</td>\n",
       "      <td>-4.407407</td>\n",
       "      <td>...</td>\n",
       "      <td>-12.82</td>\n",
       "      <td>100.2</td>\n",
       "      <td>113.0</td>\n",
       "      <td>-0.030</td>\n",
       "      <td>0.0</td>\n",
       "      <td>0.0</td>\n",
       "      <td>0.0</td>\n",
       "      <td>0.0</td>\n",
       "      <td>7.253083</td>\n",
       "      <td>8.279952</td>\n",
       "    </tr>\n",
       "    <tr>\n",
       "      <td>48924</td>\n",
       "      <td>0.0</td>\n",
       "      <td>189.0</td>\n",
       "      <td>321.0</td>\n",
       "      <td>14.0</td>\n",
       "      <td>1316.0</td>\n",
       "      <td>1367.0</td>\n",
       "      <td>0.0</td>\n",
       "      <td>0.0</td>\n",
       "      <td>3.566667</td>\n",
       "      <td>-9.392857</td>\n",
       "      <td>...</td>\n",
       "      <td>-16.03</td>\n",
       "      <td>100.6</td>\n",
       "      <td>116.6</td>\n",
       "      <td>0.007</td>\n",
       "      <td>0.0</td>\n",
       "      <td>0.0</td>\n",
       "      <td>0.0</td>\n",
       "      <td>0.0</td>\n",
       "      <td>7.253083</td>\n",
       "      <td>8.279952</td>\n",
       "    </tr>\n",
       "    <tr>\n",
       "      <td>48925</td>\n",
       "      <td>0.0</td>\n",
       "      <td>149.0</td>\n",
       "      <td>334.0</td>\n",
       "      <td>18.0</td>\n",
       "      <td>1436.0</td>\n",
       "      <td>1263.0</td>\n",
       "      <td>0.0</td>\n",
       "      <td>0.0</td>\n",
       "      <td>3.212121</td>\n",
       "      <td>-10.900000</td>\n",
       "      <td>...</td>\n",
       "      <td>-18.23</td>\n",
       "      <td>96.3</td>\n",
       "      <td>114.5</td>\n",
       "      <td>0.030</td>\n",
       "      <td>0.0</td>\n",
       "      <td>0.0</td>\n",
       "      <td>0.0</td>\n",
       "      <td>0.0</td>\n",
       "      <td>7.253083</td>\n",
       "      <td>8.279952</td>\n",
       "    </tr>\n",
       "    <tr>\n",
       "      <td>48926</td>\n",
       "      <td>0.0</td>\n",
       "      <td>149.0</td>\n",
       "      <td>232.0</td>\n",
       "      <td>8.5</td>\n",
       "      <td>1436.0</td>\n",
       "      <td>1306.0</td>\n",
       "      <td>0.0</td>\n",
       "      <td>0.0</td>\n",
       "      <td>3.212121</td>\n",
       "      <td>-1.103448</td>\n",
       "      <td>...</td>\n",
       "      <td>-6.01</td>\n",
       "      <td>99.9</td>\n",
       "      <td>105.9</td>\n",
       "      <td>0.110</td>\n",
       "      <td>0.0</td>\n",
       "      <td>0.0</td>\n",
       "      <td>0.0</td>\n",
       "      <td>0.0</td>\n",
       "      <td>7.253083</td>\n",
       "      <td>8.279952</td>\n",
       "    </tr>\n",
       "    <tr>\n",
       "      <td>48927</td>\n",
       "      <td>0.0</td>\n",
       "      <td>316.0</td>\n",
       "      <td>320.0</td>\n",
       "      <td>1.0</td>\n",
       "      <td>1368.0</td>\n",
       "      <td>1309.0</td>\n",
       "      <td>0.0</td>\n",
       "      <td>0.0</td>\n",
       "      <td>-6.064516</td>\n",
       "      <td>-6.037037</td>\n",
       "      <td>...</td>\n",
       "      <td>-15.01</td>\n",
       "      <td>96.4</td>\n",
       "      <td>111.4</td>\n",
       "      <td>-0.059</td>\n",
       "      <td>0.0</td>\n",
       "      <td>0.0</td>\n",
       "      <td>0.0</td>\n",
       "      <td>0.0</td>\n",
       "      <td>7.253083</td>\n",
       "      <td>8.279952</td>\n",
       "    </tr>\n",
       "  </tbody>\n",
       "</table>\n",
       "<p>48928 rows × 28 columns</p>\n",
       "</div>"
      ],
      "text/plain": [
       "       is_tourney  HRankPOM  RRankPOM  line  HTeamID  RTeamID  Hwins_top25  \\\n",
       "0             0.0      54.0     200.0  12.5   1104.0   1157.0          0.0   \n",
       "1             0.0      83.0     200.0  11.5   1120.0   1157.0          0.0   \n",
       "2             0.0      74.0     200.0  18.0   1140.0   1157.0          1.0   \n",
       "3             0.0     171.0     200.0   3.5   1402.0   1157.0          0.0   \n",
       "4             0.0     130.0     200.0   6.5   1407.0   1157.0          0.0   \n",
       "...           ...       ...       ...   ...      ...      ...          ...   \n",
       "48923         0.0     220.0     294.0   1.5   1205.0   1144.0          0.0   \n",
       "48924         0.0     189.0     321.0  14.0   1316.0   1367.0          0.0   \n",
       "48925         0.0     149.0     334.0  18.0   1436.0   1263.0          0.0   \n",
       "48926         0.0     149.0     232.0   8.5   1436.0   1306.0          0.0   \n",
       "48927         0.0     316.0     320.0   1.0   1368.0   1309.0          0.0   \n",
       "\n",
       "       Rwins_top25  HPointMargin  RPointMargin  ...  Radjem  Radjo  Radjd  \\\n",
       "0              0.0      4.151515     -2.870968  ...   -3.56  101.8  105.4   \n",
       "1              0.0      0.843750     -2.870968  ...   -3.56  101.8  105.4   \n",
       "2              0.0      7.030303     -2.870968  ...   -3.56  101.8  105.4   \n",
       "3              0.0      1.806452     -2.870968  ...   -3.56  101.8  105.4   \n",
       "4              0.0      3.617647     -2.870968  ...   -3.56  101.8  105.4   \n",
       "...            ...           ...           ...  ...     ...    ...    ...   \n",
       "48923          0.0     -2.966667     -4.407407  ...  -12.82  100.2  113.0   \n",
       "48924          0.0      3.566667     -9.392857  ...  -16.03  100.6  116.6   \n",
       "48925          0.0      3.212121    -10.900000  ...  -18.23   96.3  114.5   \n",
       "48926          0.0      3.212121     -1.103448  ...   -6.01   99.9  105.9   \n",
       "48927          0.0     -6.064516     -6.037037  ...  -15.01   96.4  111.4   \n",
       "\n",
       "       Rluck  Htourny20plus  Rtourny20plus  HBig4Conf  RBig4Conf      HSeed  \\\n",
       "0      0.050            0.0            0.0        1.0        0.0   7.253083   \n",
       "1      0.050            0.0            0.0        1.0        0.0   7.253083   \n",
       "2      0.050            0.0            0.0        0.0        0.0   7.253083   \n",
       "3      0.050            0.0            0.0        0.0        0.0   7.253083   \n",
       "4      0.050            0.0            0.0        0.0        0.0  15.000000   \n",
       "...      ...            ...            ...        ...        ...        ...   \n",
       "48923 -0.030            0.0            0.0        0.0        0.0   7.253083   \n",
       "48924  0.007            0.0            0.0        0.0        0.0   7.253083   \n",
       "48925  0.030            0.0            0.0        0.0        0.0   7.253083   \n",
       "48926  0.110            0.0            0.0        0.0        0.0   7.253083   \n",
       "48927 -0.059            0.0            0.0        0.0        0.0   7.253083   \n",
       "\n",
       "          RSeed  \n",
       "0      8.279952  \n",
       "1      8.279952  \n",
       "2      8.279952  \n",
       "3      8.279952  \n",
       "4      8.279952  \n",
       "...         ...  \n",
       "48923  8.279952  \n",
       "48924  8.279952  \n",
       "48925  8.279952  \n",
       "48926  8.279952  \n",
       "48927  8.279952  \n",
       "\n",
       "[48928 rows x 28 columns]"
      ]
     },
     "execution_count": 309,
     "metadata": {},
     "output_type": "execute_result"
    }
   ],
   "source": [
    "X_train"
   ]
  },
  {
   "cell_type": "code",
   "execution_count": 306,
   "metadata": {},
   "outputs": [],
   "source": [
    "Z1 = LogisticRegression(C = 1e9, random_state=23)\n",
    "Z1.fit(X_train[['line']], y_train)\n",
    "Z1_pred = pd.DataFrame(Z1.predict_proba(X_valid[['line']]))[1]"
   ]
  },
  {
   "cell_type": "code",
   "execution_count": 307,
   "metadata": {},
   "outputs": [
    {
     "data": {
      "text/plain": [
       "0.5501231760605553"
      ]
     },
     "execution_count": 307,
     "metadata": {},
     "output_type": "execute_result"
    }
   ],
   "source": [
    "LogLoss(Z1_pred, y_valid)"
   ]
  },
  {
   "cell_type": "markdown",
   "metadata": {},
   "source": [
    "The betting markets clearly did much better than the 50/50 benchmark."
   ]
  },
  {
   "cell_type": "markdown",
   "metadata": {},
   "source": [
    "This model uses only each teams adjusted offensive and defensive efficiences from Kenpom."
   ]
  },
  {
   "cell_type": "code",
   "execution_count": 318,
   "metadata": {},
   "outputs": [],
   "source": [
    "Z2 = LogisticRegression(C = 1e9, random_state=23)\n",
    "Z2.fit(X_train[['Hadjo','Hadjd','Radjo','Radjd']], y_train)\n",
    "Z2_pred = pd.DataFrame(Z2.predict_proba(X_valid[['Hadjo','Hadjd','Radjo','Radjd']]))[1]"
   ]
  },
  {
   "cell_type": "code",
   "execution_count": 319,
   "metadata": {},
   "outputs": [
    {
     "data": {
      "text/plain": [
       "0.5347689637545485"
      ]
     },
     "execution_count": 319,
     "metadata": {},
     "output_type": "execute_result"
    }
   ],
   "source": [
    "LogLoss(Z2_pred, y_valid)"
   ]
  },
  {
   "cell_type": "markdown",
   "metadata": {},
   "source": [
    "The Kenpom efficiency model does even better than the betting markets."
   ]
  },
  {
   "cell_type": "code",
   "execution_count": 267,
   "metadata": {},
   "outputs": [],
   "source": [
    "Z1 = LogisticRegression(C = 1e9, random_state=23)\n",
    "Z1.fit(X_train16[['line']], y_train16)\n",
    "Z1_pred = pd.DataFrame(Z1.predict_proba(X_valid16[['line']]))[1]"
   ]
  },
  {
   "cell_type": "code",
   "execution_count": 268,
   "metadata": {},
   "outputs": [
    {
     "data": {
      "text/plain": [
       "0.5380737902211371"
      ]
     },
     "execution_count": 268,
     "metadata": {},
     "output_type": "execute_result"
    }
   ],
   "source": [
    "LogLoss(Z1_pred, y_valid16)"
   ]
  },
  {
   "cell_type": "code",
   "execution_count": 269,
   "metadata": {},
   "outputs": [],
   "source": [
    "Z2 = LogisticRegression(C = 1e9, random_state=23)\n",
    "Z2.fit(X_train16[['Hadjo','Hadjd','Radjo','Radjd']], y_train16)\n",
    "Z2_pred = pd.DataFrame(Z2.predict_proba(X_valid16[['Hadjo','Hadjd','Radjo','Radjd']]))[1]"
   ]
  },
  {
   "cell_type": "code",
   "execution_count": 270,
   "metadata": {},
   "outputs": [],
   "source": [
    "Z2_pred_probs = Z2.predict_proba(X_valid16[['Hadjo','Hadjd','Radjo','Radjd']])"
   ]
  },
  {
   "cell_type": "code",
   "execution_count": 271,
   "metadata": {
    "scrolled": true
   },
   "outputs": [
    {
     "data": {
      "text/plain": [
       "0.5214560672166632"
      ]
     },
     "execution_count": 271,
     "metadata": {},
     "output_type": "execute_result"
    }
   ],
   "source": [
    "LogLoss(Z2_pred, y_valid16)"
   ]
  },
  {
   "cell_type": "code",
   "execution_count": 320,
   "metadata": {},
   "outputs": [],
   "source": [
    "Z3_pred = pd.DataFrame(Z2.predict_proba(X_test[['Hadjo','Hadjd','Radjo','Radjd']]))[1]"
   ]
  },
  {
   "cell_type": "code",
   "execution_count": 322,
   "metadata": {},
   "outputs": [],
   "source": [
    "Z3_pred_probs = Z2.predict_proba(X_test[['Hadjo','Hadjd','Radjo','Radjd']])"
   ]
  },
  {
   "cell_type": "code",
   "execution_count": 325,
   "metadata": {},
   "outputs": [
    {
     "data": {
      "text/plain": [
       "array([[0.15558863, 0.84441137],\n",
       "       [0.03891024, 0.96108976],\n",
       "       [0.09956125, 0.90043875],\n",
       "       ...,\n",
       "       [0.28075826, 0.71924174],\n",
       "       [0.08100124, 0.91899876],\n",
       "       [0.10878783, 0.89121217]])"
      ]
     },
     "execution_count": 325,
     "metadata": {},
     "output_type": "execute_result"
    }
   ],
   "source": [
    "Z3_pred_probs"
   ]
  },
  {
   "cell_type": "code",
   "execution_count": 714,
   "metadata": {},
   "outputs": [
    {
     "data": {
      "text/plain": [
       "2278"
      ]
     },
     "execution_count": 714,
     "metadata": {},
     "output_type": "execute_result"
    }
   ],
   "source": [
    "len(Z3_pred_probs)"
   ]
  },
  {
   "cell_type": "markdown",
   "metadata": {},
   "source": [
    "Add Predictions to Dataframe"
   ]
  },
  {
   "cell_type": "code",
   "execution_count": 326,
   "metadata": {},
   "outputs": [],
   "source": [
    "probs_list = list(range(len(Z3_pred_probs)))"
   ]
  },
  {
   "cell_type": "code",
   "execution_count": 327,
   "metadata": {},
   "outputs": [],
   "source": [
    "probs = []\n",
    "for prob in Z3_pred_probs:\n",
    "        home = prob[1]\n",
    "        away = prob[0]\n",
    "        prob_dict = {'home_w_prob' : home, 'away_w_prob' : away}\n",
    "        probs.append(prob_dict)"
   ]
  },
  {
   "cell_type": "code",
   "execution_count": 328,
   "metadata": {},
   "outputs": [],
   "source": [
    "df = pd.DataFrame(probs)"
   ]
  },
  {
   "cell_type": "code",
   "execution_count": 329,
   "metadata": {},
   "outputs": [],
   "source": [
    "preds19 = pd.concat([X_test, df], axis=1, sort=False)"
   ]
  },
  {
   "cell_type": "code",
   "execution_count": 330,
   "metadata": {},
   "outputs": [],
   "source": [
    "preds19 = preds19[['HTeamID', 'RTeamID', 'home_w_prob']]"
   ]
  },
  {
   "cell_type": "code",
   "execution_count": 333,
   "metadata": {
    "scrolled": true
   },
   "outputs": [
    {
     "data": {
      "text/html": [
       "<div>\n",
       "<style scoped>\n",
       "    .dataframe tbody tr th:only-of-type {\n",
       "        vertical-align: middle;\n",
       "    }\n",
       "\n",
       "    .dataframe tbody tr th {\n",
       "        vertical-align: top;\n",
       "    }\n",
       "\n",
       "    .dataframe thead th {\n",
       "        text-align: right;\n",
       "    }\n",
       "</style>\n",
       "<table border=\"1\" class=\"dataframe\">\n",
       "  <thead>\n",
       "    <tr style=\"text-align: right;\">\n",
       "      <th></th>\n",
       "      <th>HTeamID</th>\n",
       "      <th>RTeamID</th>\n",
       "      <th>home_w_prob</th>\n",
       "    </tr>\n",
       "  </thead>\n",
       "  <tbody>\n",
       "    <tr>\n",
       "      <td>0</td>\n",
       "      <td>1113.0</td>\n",
       "      <td>1101.0</td>\n",
       "      <td>0.844411</td>\n",
       "    </tr>\n",
       "    <tr>\n",
       "      <td>1</td>\n",
       "      <td>1120.0</td>\n",
       "      <td>1101.0</td>\n",
       "      <td>0.961090</td>\n",
       "    </tr>\n",
       "    <tr>\n",
       "      <td>2</td>\n",
       "      <td>1124.0</td>\n",
       "      <td>1101.0</td>\n",
       "      <td>0.900439</td>\n",
       "    </tr>\n",
       "    <tr>\n",
       "      <td>3</td>\n",
       "      <td>1125.0</td>\n",
       "      <td>1101.0</td>\n",
       "      <td>0.872959</td>\n",
       "    </tr>\n",
       "    <tr>\n",
       "      <td>4</td>\n",
       "      <td>1101.0</td>\n",
       "      <td>1133.0</td>\n",
       "      <td>0.701601</td>\n",
       "    </tr>\n",
       "  </tbody>\n",
       "</table>\n",
       "</div>"
      ],
      "text/plain": [
       "   HTeamID  RTeamID  home_w_prob\n",
       "0   1113.0   1101.0     0.844411\n",
       "1   1120.0   1101.0     0.961090\n",
       "2   1124.0   1101.0     0.900439\n",
       "3   1125.0   1101.0     0.872959\n",
       "4   1101.0   1133.0     0.701601"
      ]
     },
     "execution_count": 333,
     "metadata": {},
     "output_type": "execute_result"
    }
   ],
   "source": [
    "preds19.head()"
   ]
  },
  {
   "cell_type": "code",
   "execution_count": 718,
   "metadata": {},
   "outputs": [],
   "source": [
    "teams_df = pd.read_csv('Data/mens-machine-learning-competition-2019/DataFiles/Teams.csv')"
   ]
  },
  {
   "cell_type": "code",
   "execution_count": 335,
   "metadata": {},
   "outputs": [],
   "source": [
    "teams_df = teams_df[['TeamID', 'TeamName']]"
   ]
  },
  {
   "cell_type": "code",
   "execution_count": 336,
   "metadata": {},
   "outputs": [],
   "source": [
    "teams_df = teams_df.rename(columns={\"TeamID\": \"HTeamID\"})"
   ]
  },
  {
   "cell_type": "code",
   "execution_count": 338,
   "metadata": {},
   "outputs": [],
   "source": [
    "preds19 = pd.merge(preds19, teams_df, how='left', on=['HTeamID'])"
   ]
  },
  {
   "cell_type": "code",
   "execution_count": 339,
   "metadata": {},
   "outputs": [],
   "source": [
    "preds19 = preds19.rename(columns={\"TeamName\": \"HTeamName\"})"
   ]
  },
  {
   "cell_type": "code",
   "execution_count": 340,
   "metadata": {
    "scrolled": true
   },
   "outputs": [
    {
     "data": {
      "text/html": [
       "<div>\n",
       "<style scoped>\n",
       "    .dataframe tbody tr th:only-of-type {\n",
       "        vertical-align: middle;\n",
       "    }\n",
       "\n",
       "    .dataframe tbody tr th {\n",
       "        vertical-align: top;\n",
       "    }\n",
       "\n",
       "    .dataframe thead th {\n",
       "        text-align: right;\n",
       "    }\n",
       "</style>\n",
       "<table border=\"1\" class=\"dataframe\">\n",
       "  <thead>\n",
       "    <tr style=\"text-align: right;\">\n",
       "      <th></th>\n",
       "      <th>HTeamID</th>\n",
       "      <th>RTeamID</th>\n",
       "      <th>home_w_prob</th>\n",
       "      <th>HTeamName</th>\n",
       "    </tr>\n",
       "  </thead>\n",
       "  <tbody>\n",
       "    <tr>\n",
       "      <td>0</td>\n",
       "      <td>1113.0</td>\n",
       "      <td>1101.0</td>\n",
       "      <td>0.844411</td>\n",
       "      <td>Arizona St</td>\n",
       "    </tr>\n",
       "    <tr>\n",
       "      <td>1</td>\n",
       "      <td>1120.0</td>\n",
       "      <td>1101.0</td>\n",
       "      <td>0.961090</td>\n",
       "      <td>Auburn</td>\n",
       "    </tr>\n",
       "    <tr>\n",
       "      <td>2</td>\n",
       "      <td>1124.0</td>\n",
       "      <td>1101.0</td>\n",
       "      <td>0.900439</td>\n",
       "      <td>Baylor</td>\n",
       "    </tr>\n",
       "    <tr>\n",
       "      <td>3</td>\n",
       "      <td>1125.0</td>\n",
       "      <td>1101.0</td>\n",
       "      <td>0.872959</td>\n",
       "      <td>Belmont</td>\n",
       "    </tr>\n",
       "    <tr>\n",
       "      <td>4</td>\n",
       "      <td>1101.0</td>\n",
       "      <td>1133.0</td>\n",
       "      <td>0.701601</td>\n",
       "      <td>Abilene Chr</td>\n",
       "    </tr>\n",
       "  </tbody>\n",
       "</table>\n",
       "</div>"
      ],
      "text/plain": [
       "   HTeamID  RTeamID  home_w_prob    HTeamName\n",
       "0   1113.0   1101.0     0.844411   Arizona St\n",
       "1   1120.0   1101.0     0.961090       Auburn\n",
       "2   1124.0   1101.0     0.900439       Baylor\n",
       "3   1125.0   1101.0     0.872959      Belmont\n",
       "4   1101.0   1133.0     0.701601  Abilene Chr"
      ]
     },
     "execution_count": 340,
     "metadata": {},
     "output_type": "execute_result"
    }
   ],
   "source": [
    "preds19.head()"
   ]
  },
  {
   "cell_type": "code",
   "execution_count": 341,
   "metadata": {},
   "outputs": [],
   "source": [
    "teams_df = teams_df.rename(columns={\"HTeamID\": \"RTeamID\"})"
   ]
  },
  {
   "cell_type": "code",
   "execution_count": 342,
   "metadata": {},
   "outputs": [],
   "source": [
    "preds19 = pd.merge(preds19, teams_df, how='left', on=['RTeamID'])"
   ]
  },
  {
   "cell_type": "code",
   "execution_count": 343,
   "metadata": {},
   "outputs": [],
   "source": [
    "preds19 = preds19.rename(columns={\"TeamName\": \"RTeamName\"})"
   ]
  },
  {
   "cell_type": "code",
   "execution_count": 344,
   "metadata": {},
   "outputs": [],
   "source": [
    "preds19 = preds19[['HTeamName', 'RTeamName', 'home_w_prob']]"
   ]
  },
  {
   "cell_type": "code",
   "execution_count": 715,
   "metadata": {},
   "outputs": [
    {
     "data": {
      "text/plain": [
       "11"
      ]
     },
     "execution_count": 715,
     "metadata": {},
     "output_type": "execute_result"
    }
   ],
   "source": [
    "len(preds19[preds19['home_w_prob'] < 0.5])"
   ]
  },
  {
   "cell_type": "code",
   "execution_count": 347,
   "metadata": {
    "scrolled": false
   },
   "outputs": [
    {
     "data": {
      "text/plain": [
       "2278"
      ]
     },
     "execution_count": 347,
     "metadata": {},
     "output_type": "execute_result"
    }
   ],
   "source": [
    "len(preds19)"
   ]
  },
  {
   "cell_type": "code",
   "execution_count": 470,
   "metadata": {},
   "outputs": [
    {
     "data": {
      "text/html": [
       "<div>\n",
       "<style scoped>\n",
       "    .dataframe tbody tr th:only-of-type {\n",
       "        vertical-align: middle;\n",
       "    }\n",
       "\n",
       "    .dataframe tbody tr th {\n",
       "        vertical-align: top;\n",
       "    }\n",
       "\n",
       "    .dataframe thead th {\n",
       "        text-align: right;\n",
       "    }\n",
       "</style>\n",
       "<table border=\"1\" class=\"dataframe\">\n",
       "  <thead>\n",
       "    <tr style=\"text-align: right;\">\n",
       "      <th></th>\n",
       "      <th>HTeamName</th>\n",
       "      <th>RTeamName</th>\n",
       "      <th>home_w_prob</th>\n",
       "    </tr>\n",
       "  </thead>\n",
       "  <tbody>\n",
       "    <tr>\n",
       "      <td>660</td>\n",
       "      <td>F Dickinson</td>\n",
       "      <td>Prairie View</td>\n",
       "      <td>0.643959</td>\n",
       "    </tr>\n",
       "  </tbody>\n",
       "</table>\n",
       "</div>"
      ],
      "text/plain": [
       "       HTeamName     RTeamName  home_w_prob\n",
       "660  F Dickinson  Prairie View     0.643959"
      ]
     },
     "execution_count": 470,
     "metadata": {},
     "output_type": "execute_result"
    }
   ],
   "source": [
    "preds19.loc[(preds19['HTeamName'] == 'F Dickinson') & (preds19['RTeamName'] == \"Prairie View\")]"
   ]
  },
  {
   "cell_type": "code",
   "execution_count": 713,
   "metadata": {},
   "outputs": [],
   "source": [
    "# sorted(list(preds19['RTeamName'].unique()))"
   ]
  },
  {
   "cell_type": "markdown",
   "metadata": {},
   "source": [
    "### Decision Tree"
   ]
  },
  {
   "cell_type": "code",
   "execution_count": 26,
   "metadata": {},
   "outputs": [],
   "source": [
    "from sklearn.tree import DecisionTreeClassifier"
   ]
  },
  {
   "cell_type": "code",
   "execution_count": 27,
   "metadata": {},
   "outputs": [],
   "source": [
    "from sklearn.metrics import log_loss"
   ]
  },
  {
   "cell_type": "code",
   "execution_count": 28,
   "metadata": {},
   "outputs": [],
   "source": [
    "dt = DecisionTreeClassifier()\n",
    "dt.fit(X_train, y_train)\n",
    "dt_prob = pd.DataFrame(dt.predict_proba(X_valid))\n",
    "# LogLoss(dt_prob[1], y_valid)"
   ]
  },
  {
   "cell_type": "markdown",
   "metadata": {},
   "source": [
    "### Random Forest"
   ]
  },
  {
   "cell_type": "code",
   "execution_count": 29,
   "metadata": {
    "scrolled": true
   },
   "outputs": [
    {
     "data": {
      "text/plain": [
       "0.5658478089569049"
      ]
     },
     "execution_count": 29,
     "metadata": {},
     "output_type": "execute_result"
    }
   ],
   "source": [
    "clf = RandomForestClassifier(n_estimators=200, max_depth=3, min_samples_leaf=3)\n",
    "clf.fit(X_train, y_train)\n",
    "rf_prob = pd.DataFrame(clf.predict_proba(X_valid))\n",
    "LogLoss(rf_prob[1], y_valid)"
   ]
  },
  {
   "cell_type": "markdown",
   "metadata": {},
   "source": [
    "# New Model"
   ]
  },
  {
   "cell_type": "code",
   "execution_count": 30,
   "metadata": {},
   "outputs": [],
   "source": [
    "# pip install pandas sklearn sportsreference"
   ]
  },
  {
   "cell_type": "code",
   "execution_count": 31,
   "metadata": {},
   "outputs": [],
   "source": [
    "from sportsreference.ncaab.teams import Teams\n",
    "from sklearn.ensemble import RandomForestRegressor\n",
    "from sklearn.model_selection import train_test_split"
   ]
  },
  {
   "cell_type": "code",
   "execution_count": 32,
   "metadata": {},
   "outputs": [],
   "source": [
    "# FIELDS_TO_DROP = ['away_points', 'home_points', 'date', 'location',\n",
    "#                   'losing_abbr', 'losing_name', 'winner', 'winning_abbr',\n",
    "#                   'winning_name', 'home_ranking', 'away_ranking']\n",
    "\n",
    "# dataset = pd.DataFrame()\n",
    "# teams = Teams()\n",
    "# for team in teams:\n",
    "#     dataset = pd.concat([dataset, team.schedule.dataframe_extended])"
   ]
  },
  {
   "cell_type": "code",
   "execution_count": 33,
   "metadata": {},
   "outputs": [],
   "source": [
    "# X = dataset.drop(FIELDS_TO_DROP, 1).dropna().drop_duplicates()\n",
    "# y = dataset[['home_points', 'away_points']].values\n",
    "# X_train, X_test, y_train, y_test = train_test_split(X, y)\n",
    "# parameters = {'bootstrap': False,\n",
    "#               'min_samples_leaf': 3,\n",
    "#               'n_estimators': 50,\n",
    "#               'min_samples_split': 10,\n",
    "#               'max_features': 'sqrt',\n",
    "#               'max_depth': 6}\n",
    "# model = RandomForestRegressor(**parameters)\n",
    "# model.fit(X_train, y_train)\n",
    "# print(model.predict(X_test).astype(int), y_test)"
   ]
  },
  {
   "cell_type": "markdown",
   "metadata": {},
   "source": [
    "### TrueSkill"
   ]
  },
  {
   "cell_type": "code",
   "execution_count": null,
   "metadata": {},
   "outputs": [],
   "source": []
  },
  {
   "cell_type": "markdown",
   "metadata": {},
   "source": [
    "### Visuals"
   ]
  },
  {
   "cell_type": "code",
   "execution_count": 663,
   "metadata": {},
   "outputs": [
    {
     "data": {
      "text/plain": [
       "Index(['Season', 'date', 'is_tourney', 'home', 'HTeamID', 'hscore', 'road',\n",
       "       'RTeamID', 'rscore', 'line', 'lineavg', 'Hwin', 'HSeed', 'RSeed',\n",
       "       'Hconf', 'Hadjem', 'Hadjo', 'Hadjd', 'Hluck', 'Rconf', 'Radjem',\n",
       "       'Radjo', 'Radjd', 'Rluck', 'HRankPOM', 'RRankPOM', 'HScore',\n",
       "       'HOpponentScore', 'HTOmargin', 'HPointMargin', 'HFG', 'HFGopponent',\n",
       "       'HFG3', 'HFG3opponent', 'HFT', 'Hwins', 'Hwins_top25', 'Hwins_top5',\n",
       "       'RScore', 'ROpponentScore', 'RTOmargin', 'RPointMargin', 'RFG',\n",
       "       'RFGopponent', 'RFG3', 'RFG3opponent', 'RFT', 'Rwins', 'Rwins_top25',\n",
       "       'Rwins_top5', 'Htourny20plus', 'Rtourny20plus', 'HBig4Conf',\n",
       "       'RBig4Conf'],\n",
       "      dtype='object')"
      ]
     },
     "execution_count": 663,
     "metadata": {},
     "output_type": "execute_result"
    }
   ],
   "source": [
    "tourney_games_df.columns"
   ]
  },
  {
   "cell_type": "code",
   "execution_count": 664,
   "metadata": {},
   "outputs": [
    {
     "data": {
      "text/plain": [
       "55        6.0\n",
       "70        8.0\n",
       "254       1.0\n",
       "255       2.0\n",
       "257       3.0\n",
       "         ... \n",
       "48749     1.0\n",
       "48789     1.0\n",
       "48924     5.0\n",
       "49012    16.0\n",
       "49050    16.0\n",
       "Name: HSeed, Length: 919, dtype: float64"
      ]
     },
     "execution_count": 664,
     "metadata": {},
     "output_type": "execute_result"
    }
   ],
   "source": [
    "tourney_games_df['HSeed']"
   ]
  },
  {
   "cell_type": "code",
   "execution_count": 665,
   "metadata": {},
   "outputs": [
    {
     "data": {
      "text/plain": [
       "HSeed\n",
       "1.0     119.748387\n",
       "2.0     117.543506\n",
       "3.0     115.856154\n",
       "4.0     115.439286\n",
       "5.0     113.898529\n",
       "6.0     113.727273\n",
       "7.0     113.768750\n",
       "8.0     113.054098\n",
       "9.0     110.666667\n",
       "10.0    110.200000\n",
       "11.0    113.738462\n",
       "12.0    111.266667\n",
       "13.0    113.200000\n",
       "14.0    106.300000\n",
       "16.0    101.866667\n",
       "Name: Hadjo, dtype: float64"
      ]
     },
     "execution_count": 665,
     "metadata": {},
     "output_type": "execute_result"
    }
   ],
   "source": [
    "tourney_games_df.groupby('HSeed')['Hadjo'].mean()"
   ]
  },
  {
   "cell_type": "code",
   "execution_count": 666,
   "metadata": {},
   "outputs": [
    {
     "data": {
      "text/plain": [
       "RSeed\n",
       "1.0     122.544444\n",
       "2.0     118.466667\n",
       "3.0     116.517143\n",
       "4.0     115.735484\n",
       "5.0     115.113725\n",
       "6.0     113.491892\n",
       "7.0     114.328070\n",
       "8.0     114.018182\n",
       "9.0     111.237931\n",
       "10.0    112.650602\n",
       "11.0    111.873214\n",
       "12.0    110.667500\n",
       "13.0    108.327027\n",
       "14.0    108.143077\n",
       "15.0    104.554098\n",
       "16.0    102.128788\n",
       "Name: Radjo, dtype: float64"
      ]
     },
     "execution_count": 666,
     "metadata": {},
     "output_type": "execute_result"
    }
   ],
   "source": [
    "tourney_games_df.groupby('RSeed')['Radjo'].mean()"
   ]
  },
  {
   "cell_type": "code",
   "execution_count": 667,
   "metadata": {
    "scrolled": true
   },
   "outputs": [
    {
     "data": {
      "text/plain": [
       "HSeed\n",
       "1.0     9.976959\n",
       "2.0     8.837662\n",
       "3.0     6.573077\n",
       "4.0     6.156250\n",
       "5.0     5.147059\n",
       "6.0     3.219275\n",
       "7.0     1.601562\n",
       "8.0     0.737705\n",
       "9.0     5.333333\n",
       "10.0    2.600000\n",
       "11.0    2.269231\n",
       "12.0    3.777778\n",
       "13.0    1.500000\n",
       "14.0    2.000000\n",
       "16.0    2.400000\n",
       "Name: line, dtype: float64"
      ]
     },
     "execution_count": 667,
     "metadata": {},
     "output_type": "execute_result"
    }
   ],
   "source": [
    "tourney_games_df.groupby('HSeed')['line'].mean()"
   ]
  },
  {
   "cell_type": "code",
   "execution_count": 668,
   "metadata": {},
   "outputs": [
    {
     "data": {
      "text/plain": [
       "RSeed\n",
       "1.0      1.444444\n",
       "2.0      1.425926\n",
       "3.0      3.714286\n",
       "4.0      3.467742\n",
       "5.0      3.598039\n",
       "6.0      4.067568\n",
       "7.0      4.596491\n",
       "8.0      6.897727\n",
       "9.0      3.091954\n",
       "10.0     2.704819\n",
       "11.0     3.714037\n",
       "12.0     5.575000\n",
       "13.0     8.216216\n",
       "14.0     9.876923\n",
       "15.0    15.721311\n",
       "16.0    17.560606\n",
       "Name: line, dtype: float64"
      ]
     },
     "execution_count": 668,
     "metadata": {},
     "output_type": "execute_result"
    }
   ],
   "source": [
    "tourney_games_df.groupby('RSeed')['line'].mean()"
   ]
  },
  {
   "cell_type": "code",
   "execution_count": 669,
   "metadata": {},
   "outputs": [],
   "source": [
    "trial = tourney_games_df[['HSeed']]"
   ]
  },
  {
   "cell_type": "code",
   "execution_count": 670,
   "metadata": {},
   "outputs": [],
   "source": [
    "trial = trial.rename(columns={\"HSeed\": \"Seed\"})"
   ]
  },
  {
   "cell_type": "code",
   "execution_count": 671,
   "metadata": {},
   "outputs": [],
   "source": [
    "trial2 = tourney_games_df[['RSeed']]"
   ]
  },
  {
   "cell_type": "code",
   "execution_count": 672,
   "metadata": {},
   "outputs": [],
   "source": [
    "trial2 = trial2.rename(columns={\"RSeed\": \"Seed\"})"
   ]
  },
  {
   "cell_type": "code",
   "execution_count": 673,
   "metadata": {},
   "outputs": [],
   "source": [
    "trial = trial.append(trial2)"
   ]
  },
  {
   "cell_type": "code",
   "execution_count": 674,
   "metadata": {},
   "outputs": [],
   "source": [
    "trial2 = tourney_games_df[['Hadjo']]"
   ]
  },
  {
   "cell_type": "code",
   "execution_count": 675,
   "metadata": {},
   "outputs": [],
   "source": [
    "trial2 = trial2.rename(columns={\"Hadjo\": \"Adjo\"})"
   ]
  },
  {
   "cell_type": "code",
   "execution_count": 676,
   "metadata": {},
   "outputs": [],
   "source": [
    "trial3 = tourney_games_df[['Radjo']]"
   ]
  },
  {
   "cell_type": "code",
   "execution_count": 677,
   "metadata": {},
   "outputs": [],
   "source": [
    "trial3 = trial3.rename(columns={\"Radjo\": \"Adjo\"})"
   ]
  },
  {
   "cell_type": "code",
   "execution_count": 678,
   "metadata": {},
   "outputs": [],
   "source": [
    "trial2 = trial2.append(trial3)"
   ]
  },
  {
   "cell_type": "code",
   "execution_count": 679,
   "metadata": {},
   "outputs": [],
   "source": [
    "trial = pd.concat([trial, trial2], axis=1)"
   ]
  },
  {
   "cell_type": "code",
   "execution_count": 680,
   "metadata": {},
   "outputs": [],
   "source": [
    "trial2 = tourney_games_df[['Hadjd']]"
   ]
  },
  {
   "cell_type": "code",
   "execution_count": 681,
   "metadata": {},
   "outputs": [],
   "source": [
    "trial2 = trial2.rename(columns={\"Hadjd\": \"Adjd\"})"
   ]
  },
  {
   "cell_type": "code",
   "execution_count": 682,
   "metadata": {},
   "outputs": [],
   "source": [
    "trial3 = tourney_games_df[['Radjd']]"
   ]
  },
  {
   "cell_type": "code",
   "execution_count": 683,
   "metadata": {},
   "outputs": [],
   "source": [
    "trial3 = trial3.rename(columns={\"Radjd\": \"Adjd\"})"
   ]
  },
  {
   "cell_type": "code",
   "execution_count": 684,
   "metadata": {},
   "outputs": [],
   "source": [
    "trial2 = trial2.append(trial3)"
   ]
  },
  {
   "cell_type": "code",
   "execution_count": 685,
   "metadata": {},
   "outputs": [],
   "source": [
    "trial = pd.concat([trial, trial2], axis=1)"
   ]
  },
  {
   "cell_type": "code",
   "execution_count": 686,
   "metadata": {},
   "outputs": [
    {
     "data": {
      "text/html": [
       "<div>\n",
       "<style scoped>\n",
       "    .dataframe tbody tr th:only-of-type {\n",
       "        vertical-align: middle;\n",
       "    }\n",
       "\n",
       "    .dataframe tbody tr th {\n",
       "        vertical-align: top;\n",
       "    }\n",
       "\n",
       "    .dataframe thead th {\n",
       "        text-align: right;\n",
       "    }\n",
       "</style>\n",
       "<table border=\"1\" class=\"dataframe\">\n",
       "  <thead>\n",
       "    <tr style=\"text-align: right;\">\n",
       "      <th></th>\n",
       "      <th>Seed</th>\n",
       "      <th>Adjo</th>\n",
       "      <th>Adjd</th>\n",
       "    </tr>\n",
       "  </thead>\n",
       "  <tbody>\n",
       "    <tr>\n",
       "      <td>55</td>\n",
       "      <td>6.0</td>\n",
       "      <td>113.6</td>\n",
       "      <td>95.0</td>\n",
       "    </tr>\n",
       "    <tr>\n",
       "      <td>70</td>\n",
       "      <td>8.0</td>\n",
       "      <td>112.3</td>\n",
       "      <td>95.0</td>\n",
       "    </tr>\n",
       "    <tr>\n",
       "      <td>254</td>\n",
       "      <td>1.0</td>\n",
       "      <td>120.8</td>\n",
       "      <td>88.5</td>\n",
       "    </tr>\n",
       "    <tr>\n",
       "      <td>255</td>\n",
       "      <td>2.0</td>\n",
       "      <td>114.7</td>\n",
       "      <td>92.9</td>\n",
       "    </tr>\n",
       "    <tr>\n",
       "      <td>257</td>\n",
       "      <td>3.0</td>\n",
       "      <td>115.6</td>\n",
       "      <td>94.1</td>\n",
       "    </tr>\n",
       "    <tr>\n",
       "      <td>...</td>\n",
       "      <td>...</td>\n",
       "      <td>...</td>\n",
       "      <td>...</td>\n",
       "    </tr>\n",
       "    <tr>\n",
       "      <td>48749</td>\n",
       "      <td>16.0</td>\n",
       "      <td>102.9</td>\n",
       "      <td>102.9</td>\n",
       "    </tr>\n",
       "    <tr>\n",
       "      <td>48789</td>\n",
       "      <td>16.0</td>\n",
       "      <td>104.6</td>\n",
       "      <td>111.2</td>\n",
       "    </tr>\n",
       "    <tr>\n",
       "      <td>48924</td>\n",
       "      <td>12.0</td>\n",
       "      <td>112.9</td>\n",
       "      <td>100.7</td>\n",
       "    </tr>\n",
       "    <tr>\n",
       "      <td>49012</td>\n",
       "      <td>16.0</td>\n",
       "      <td>102.3</td>\n",
       "      <td>110.6</td>\n",
       "    </tr>\n",
       "    <tr>\n",
       "      <td>49050</td>\n",
       "      <td>16.0</td>\n",
       "      <td>96.6</td>\n",
       "      <td>110.0</td>\n",
       "    </tr>\n",
       "  </tbody>\n",
       "</table>\n",
       "<p>1838 rows × 3 columns</p>\n",
       "</div>"
      ],
      "text/plain": [
       "       Seed   Adjo   Adjd\n",
       "55      6.0  113.6   95.0\n",
       "70      8.0  112.3   95.0\n",
       "254     1.0  120.8   88.5\n",
       "255     2.0  114.7   92.9\n",
       "257     3.0  115.6   94.1\n",
       "...     ...    ...    ...\n",
       "48749  16.0  102.9  102.9\n",
       "48789  16.0  104.6  111.2\n",
       "48924  12.0  112.9  100.7\n",
       "49012  16.0  102.3  110.6\n",
       "49050  16.0   96.6  110.0\n",
       "\n",
       "[1838 rows x 3 columns]"
      ]
     },
     "execution_count": 686,
     "metadata": {},
     "output_type": "execute_result"
    }
   ],
   "source": [
    "trial"
   ]
  },
  {
   "cell_type": "code",
   "execution_count": 687,
   "metadata": {},
   "outputs": [
    {
     "data": {
      "image/png": "[encoded data removed]",
      "text/plain": [
       "<Figure size 576x576 with 1 Axes>"
      ]
     },
     "metadata": {
      "needs_background": "light"
     },
     "output_type": "display_data"
    }
   ],
   "source": [
    "plt.figure(figsize = (8,8))\n",
    "sns.barplot(trial['Seed'], trial['Adjo'], color = 'blue')\n",
    "plt.title(\"Offensive Efficiency per Seed\")\n",
    "plt.xlabel(\"Offensive Efficiency\")\n",
    "plt.ylabel(\"Seed\")\n",
    "plt.show()"
   ]
  },
  {
   "cell_type": "code",
   "execution_count": 688,
   "metadata": {},
   "outputs": [
    {
     "data": {
      "text/plain": [
       "Index(['Season', 'date', 'is_tourney', 'home', 'HTeamID', 'hscore', 'road',\n",
       "       'RTeamID', 'rscore', 'line', 'lineavg', 'Hwin', 'HSeed', 'RSeed',\n",
       "       'Hconf', 'Hadjem', 'Hadjo', 'Hadjd', 'Hluck', 'Rconf', 'Radjem',\n",
       "       'Radjo', 'Radjd', 'Rluck', 'HRankPOM', 'RRankPOM', 'HScore',\n",
       "       'HOpponentScore', 'HTOmargin', 'HPointMargin', 'HFG', 'HFGopponent',\n",
       "       'HFG3', 'HFG3opponent', 'HFT', 'Hwins', 'Hwins_top25', 'Hwins_top5',\n",
       "       'RScore', 'ROpponentScore', 'RTOmargin', 'RPointMargin', 'RFG',\n",
       "       'RFGopponent', 'RFG3', 'RFG3opponent', 'RFT', 'Rwins', 'Rwins_top25',\n",
       "       'Rwins_top5', 'Htourny20plus', 'Rtourny20plus', 'HBig4Conf',\n",
       "       'RBig4Conf'],\n",
       "      dtype='object')"
      ]
     },
     "execution_count": 688,
     "metadata": {},
     "output_type": "execute_result"
    }
   ],
   "source": [
    "tourney_games_df.columns"
   ]
  },
  {
   "cell_type": "code",
   "execution_count": 689,
   "metadata": {},
   "outputs": [],
   "source": [
    "x = tourney_games_df[['Hwin']]"
   ]
  },
  {
   "cell_type": "code",
   "execution_count": 690,
   "metadata": {},
   "outputs": [],
   "source": [
    "y = tourney_games_df[['Hwin']]"
   ]
  },
  {
   "cell_type": "code",
   "execution_count": 691,
   "metadata": {},
   "outputs": [],
   "source": [
    "blank_list = []\n",
    "for i in y['Hwin']:\n",
    "    if i == 1:\n",
    "        i = 0\n",
    "        blank_dict = {'Win': i}\n",
    "        blank_list.append(blank_dict)\n",
    "    else:\n",
    "        i = 1\n",
    "        blank_dict = {'Win': i}\n",
    "        blank_list.append(blank_dict)\n",
    "    "
   ]
  },
  {
   "cell_type": "code",
   "execution_count": 692,
   "metadata": {},
   "outputs": [],
   "source": [
    "y = pd.DataFrame(blank_list)"
   ]
  },
  {
   "cell_type": "code",
   "execution_count": 693,
   "metadata": {},
   "outputs": [],
   "source": [
    "x = x.rename(columns={\"Hwin\": \"Win\"})"
   ]
  },
  {
   "cell_type": "code",
   "execution_count": 694,
   "metadata": {},
   "outputs": [],
   "source": [
    "x = x.reset_index(drop=True)"
   ]
  },
  {
   "cell_type": "code",
   "execution_count": 695,
   "metadata": {},
   "outputs": [],
   "source": [
    "y = y.reset_index(drop=True)"
   ]
  },
  {
   "cell_type": "code",
   "execution_count": 696,
   "metadata": {},
   "outputs": [],
   "source": [
    "x = x.append(y)"
   ]
  },
  {
   "cell_type": "code",
   "execution_count": 697,
   "metadata": {},
   "outputs": [],
   "source": [
    "x = x.reset_index(drop=True)"
   ]
  },
  {
   "cell_type": "code",
   "execution_count": 698,
   "metadata": {},
   "outputs": [],
   "source": [
    "trial = trial.reset_index(drop=True)"
   ]
  },
  {
   "cell_type": "code",
   "execution_count": 699,
   "metadata": {},
   "outputs": [],
   "source": [
    "trial = pd.concat([trial, x], axis=1)"
   ]
  },
  {
   "cell_type": "code",
   "execution_count": 701,
   "metadata": {},
   "outputs": [
    {
     "data": {
      "text/html": [
       "<div>\n",
       "<style scoped>\n",
       "    .dataframe tbody tr th:only-of-type {\n",
       "        vertical-align: middle;\n",
       "    }\n",
       "\n",
       "    .dataframe tbody tr th {\n",
       "        vertical-align: top;\n",
       "    }\n",
       "\n",
       "    .dataframe thead th {\n",
       "        text-align: right;\n",
       "    }\n",
       "</style>\n",
       "<table border=\"1\" class=\"dataframe\">\n",
       "  <thead>\n",
       "    <tr style=\"text-align: right;\">\n",
       "      <th></th>\n",
       "      <th>Seed</th>\n",
       "      <th>Adjo</th>\n",
       "      <th>Adjd</th>\n",
       "      <th>Win</th>\n",
       "    </tr>\n",
       "  </thead>\n",
       "  <tbody>\n",
       "    <tr>\n",
       "      <td>0</td>\n",
       "      <td>6.0</td>\n",
       "      <td>113.6</td>\n",
       "      <td>95.0</td>\n",
       "      <td>1</td>\n",
       "    </tr>\n",
       "    <tr>\n",
       "      <td>1</td>\n",
       "      <td>8.0</td>\n",
       "      <td>112.3</td>\n",
       "      <td>95.0</td>\n",
       "      <td>1</td>\n",
       "    </tr>\n",
       "    <tr>\n",
       "      <td>2</td>\n",
       "      <td>1.0</td>\n",
       "      <td>120.8</td>\n",
       "      <td>88.5</td>\n",
       "      <td>1</td>\n",
       "    </tr>\n",
       "    <tr>\n",
       "      <td>3</td>\n",
       "      <td>2.0</td>\n",
       "      <td>114.7</td>\n",
       "      <td>92.9</td>\n",
       "      <td>0</td>\n",
       "    </tr>\n",
       "    <tr>\n",
       "      <td>4</td>\n",
       "      <td>3.0</td>\n",
       "      <td>115.6</td>\n",
       "      <td>94.1</td>\n",
       "      <td>0</td>\n",
       "    </tr>\n",
       "  </tbody>\n",
       "</table>\n",
       "</div>"
      ],
      "text/plain": [
       "   Seed   Adjo  Adjd  Win\n",
       "0   6.0  113.6  95.0    1\n",
       "1   8.0  112.3  95.0    1\n",
       "2   1.0  120.8  88.5    1\n",
       "3   2.0  114.7  92.9    0\n",
       "4   3.0  115.6  94.1    0"
      ]
     },
     "execution_count": 701,
     "metadata": {},
     "output_type": "execute_result"
    }
   ],
   "source": [
    "trial.head()"
   ]
  },
  {
   "cell_type": "code",
   "execution_count": 726,
   "metadata": {},
   "outputs": [
    {
     "data": {
      "image/png": "[encoded data removed]",
      "text/plain": [
       "<Figure size 576x576 with 1 Axes>"
      ]
     },
     "metadata": {
      "needs_background": "light"
     },
     "output_type": "display_data"
    }
   ],
   "source": [
    "plt.figure(figsize = (8,8))\n",
    "sns.barplot(trial['Win'], trial['Adjo'], color = 'blue')\n",
    "plt.title(\"Offensive Efficiency for Win or Loss\")\n",
    "plt.xlabel(\"Win/Loss\")\n",
    "plt.ylabel(\"Offensive Efficiency\")\n",
    "plt.ylim(100, 117.5)\n",
    "plt.xticks([0, 1], ['Loss', 'Win'])\n",
    "plt.show()"
   ]
  },
  {
   "cell_type": "code",
   "execution_count": 725,
   "metadata": {},
   "outputs": [
    {
     "data": {
      "image/png": "[encoded data removed]",
      "text/plain": [
       "<Figure size 576x576 with 1 Axes>"
      ]
     },
     "metadata": {
      "needs_background": "light"
     },
     "output_type": "display_data"
    }
   ],
   "source": [
    "plt.figure(figsize = (8,8))\n",
    "sns.barplot(trial['Win'], trial['Adjd'], color = 'blue')\n",
    "plt.title(\"Defensive Efficiency for Win or Loss\")\n",
    "plt.xlabel(\"Win/Loss\")\n",
    "plt.ylabel(\"Defensive Efficiency\")\n",
    "plt.ylim(80, 100)\n",
    "plt.xticks([0, 1], ['Loss', 'Win'])\n",
    "plt.show()"
   ]
  },
  {
   "cell_type": "code",
   "execution_count": null,
   "metadata": {},
   "outputs": [],
   "source": []
  }
 ],
 "metadata": {
  "kernelspec": {
   "display_name": "Python [conda env:learn-env] *",
   "language": "python",
   "name": "conda-env-learn-env-py"
  },
  "language_info": {
   "codemirror_mode": {
    "name": "ipython",
    "version": 3
   },
   "file_extension": ".py",
   "mimetype": "text/x-python",
   "name": "python",
   "nbconvert_exporter": "python",
   "pygments_lexer": "ipython3",
   "version": "3.6.9"
  }
 },
 "nbformat": 4,
 "nbformat_minor": 2
}
